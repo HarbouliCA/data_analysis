{
 "cells": [
  {
   "cell_type": "markdown",
   "id": "44a35d46",
   "metadata": {
    "papermill": {
     "duration": 0.104303,
     "end_time": "2022-03-17T09:42:49.265043",
     "exception": false,
     "start_time": "2022-03-17T09:42:49.160740",
     "status": "completed"
    },
    "tags": []
   },
   "source": [
    "# Scraping full data from \"futwiz\""
   ]
  },
  {
   "cell_type": "code",
   "execution_count": 1,
   "id": "bd270d1b",
   "metadata": {
    "execution": {
     "iopub.execute_input": "2022-03-17T09:42:49.480386Z",
     "iopub.status.busy": "2022-03-17T09:42:49.478745Z",
     "iopub.status.idle": "2022-03-17T09:42:49.482613Z",
     "shell.execute_reply": "2022-03-17T09:42:49.483133Z",
     "shell.execute_reply.started": "2022-03-17T09:23:10.544665Z"
    },
    "papermill": {
     "duration": 0.113982,
     "end_time": "2022-03-17T09:42:49.483431",
     "exception": false,
     "start_time": "2022-03-17T09:42:49.369449",
     "status": "completed"
    },
    "tags": []
   },
   "outputs": [],
   "source": [
    "## Importing libraries, we will use BeautifulSoup library"
   ]
  },
  {
   "cell_type": "markdown",
   "id": "daf0a731",
   "metadata": {
    "papermill": {
     "duration": 0.102292,
     "end_time": "2022-03-17T09:42:49.688563",
     "exception": false,
     "start_time": "2022-03-17T09:42:49.586271",
     "status": "completed"
    },
    "tags": []
   },
   "source": [
    "### Imports"
   ]
  },
  {
   "cell_type": "code",
   "execution_count": 2,
   "id": "4fd29870",
   "metadata": {
    "execution": {
     "iopub.execute_input": "2022-03-17T09:42:49.902768Z",
     "iopub.status.busy": "2022-03-17T09:42:49.901774Z",
     "iopub.status.idle": "2022-03-17T09:42:50.214983Z",
     "shell.execute_reply": "2022-03-17T09:42:50.214340Z",
     "shell.execute_reply.started": "2022-03-17T09:23:10.570491Z"
    },
    "papermill": {
     "duration": 0.424098,
     "end_time": "2022-03-17T09:42:50.215178",
     "exception": false,
     "start_time": "2022-03-17T09:42:49.791080",
     "status": "completed"
    },
    "tags": []
   },
   "outputs": [],
   "source": [
    "from bs4 import BeautifulSoup\n",
    "import requests \n",
    "import pandas as pd \n",
    "import urllib.parse "
   ]
  },
  {
   "cell_type": "markdown",
   "id": "c2aba8ad",
   "metadata": {
    "papermill": {
     "duration": 0.102048,
     "end_time": "2022-03-17T09:42:50.420072",
     "exception": false,
     "start_time": "2022-03-17T09:42:50.318024",
     "status": "completed"
    },
    "tags": []
   },
   "source": [
    "### HTTP Request"
   ]
  },
  {
   "cell_type": "markdown",
   "id": "3927c609",
   "metadata": {
    "papermill": {
     "duration": 0.103015,
     "end_time": "2022-03-17T09:42:50.626441",
     "exception": false,
     "start_time": "2022-03-17T09:42:50.523426",
     "status": "completed"
    },
    "tags": []
   },
   "source": [
    "#### store website in variable"
   ]
  },
  {
   "cell_type": "code",
   "execution_count": 3,
   "id": "0000fa1b",
   "metadata": {
    "execution": {
     "iopub.execute_input": "2022-03-17T09:42:50.838043Z",
     "iopub.status.busy": "2022-03-17T09:42:50.837400Z",
     "iopub.status.idle": "2022-03-17T09:42:50.840603Z",
     "shell.execute_reply": "2022-03-17T09:42:50.841199Z",
     "shell.execute_reply.started": "2022-03-17T09:23:10.956205Z"
    },
    "papermill": {
     "duration": 0.110967,
     "end_time": "2022-03-17T09:42:50.841365",
     "exception": false,
     "start_time": "2022-03-17T09:42:50.730398",
     "status": "completed"
    },
    "tags": []
   },
   "outputs": [],
   "source": [
    "website = 'https://www.futwiz.com/en/fifa22/players?page=1'"
   ]
  },
  {
   "cell_type": "markdown",
   "id": "164d973d",
   "metadata": {
    "papermill": {
     "duration": 0.10216,
     "end_time": "2022-03-17T09:42:51.047599",
     "exception": false,
     "start_time": "2022-03-17T09:42:50.945439",
     "status": "completed"
    },
    "tags": []
   },
   "source": [
    "#### Get Request"
   ]
  },
  {
   "cell_type": "code",
   "execution_count": 4,
   "id": "411440e7",
   "metadata": {
    "execution": {
     "iopub.execute_input": "2022-03-17T09:42:51.258402Z",
     "iopub.status.busy": "2022-03-17T09:42:51.257739Z",
     "iopub.status.idle": "2022-03-17T09:42:52.436053Z",
     "shell.execute_reply": "2022-03-17T09:42:52.435469Z",
     "shell.execute_reply.started": "2022-03-17T09:23:10.961855Z"
    },
    "papermill": {
     "duration": 1.284798,
     "end_time": "2022-03-17T09:42:52.436215",
     "exception": false,
     "start_time": "2022-03-17T09:42:51.151417",
     "status": "completed"
    },
    "tags": []
   },
   "outputs": [],
   "source": [
    "response = requests.get(website)"
   ]
  },
  {
   "cell_type": "markdown",
   "id": "8c0f3933",
   "metadata": {
    "papermill": {
     "duration": 0.101597,
     "end_time": "2022-03-17T09:42:52.639919",
     "exception": false,
     "start_time": "2022-03-17T09:42:52.538322",
     "status": "completed"
    },
    "tags": []
   },
   "source": [
    "#### Status Code : to check if it works"
   ]
  },
  {
   "cell_type": "code",
   "execution_count": 5,
   "id": "992a1b32",
   "metadata": {
    "execution": {
     "iopub.execute_input": "2022-03-17T09:42:52.851803Z",
     "iopub.status.busy": "2022-03-17T09:42:52.851119Z",
     "iopub.status.idle": "2022-03-17T09:42:52.857153Z",
     "shell.execute_reply": "2022-03-17T09:42:52.857601Z",
     "shell.execute_reply.started": "2022-03-17T09:23:11.745481Z"
    },
    "papermill": {
     "duration": 0.113873,
     "end_time": "2022-03-17T09:42:52.857766",
     "exception": false,
     "start_time": "2022-03-17T09:42:52.743893",
     "status": "completed"
    },
    "tags": []
   },
   "outputs": [
    {
     "data": {
      "text/plain": [
       "200"
      ]
     },
     "execution_count": 5,
     "metadata": {},
     "output_type": "execute_result"
    }
   ],
   "source": [
    "response.status_code"
   ]
  },
  {
   "cell_type": "markdown",
   "id": "125b4f51",
   "metadata": {
    "papermill": {
     "duration": 0.103835,
     "end_time": "2022-03-17T09:42:53.065792",
     "exception": false,
     "start_time": "2022-03-17T09:42:52.961957",
     "status": "completed"
    },
    "tags": []
   },
   "source": [
    "### Soup Object "
   ]
  },
  {
   "cell_type": "code",
   "execution_count": 6,
   "id": "0b38550c",
   "metadata": {
    "execution": {
     "iopub.execute_input": "2022-03-17T09:42:53.274275Z",
     "iopub.status.busy": "2022-03-17T09:42:53.273262Z",
     "iopub.status.idle": "2022-03-17T09:42:53.712002Z",
     "shell.execute_reply": "2022-03-17T09:42:53.712500Z",
     "shell.execute_reply.started": "2022-03-17T09:23:11.755412Z"
    },
    "papermill": {
     "duration": 0.544206,
     "end_time": "2022-03-17T09:42:53.712702",
     "exception": false,
     "start_time": "2022-03-17T09:42:53.168496",
     "status": "completed"
    },
    "tags": []
   },
   "outputs": [],
   "source": [
    "soup = BeautifulSoup(response.content, 'html.parser')"
   ]
  },
  {
   "cell_type": "markdown",
   "id": "b9449b1c",
   "metadata": {
    "papermill": {
     "duration": 0.102443,
     "end_time": "2022-03-17T09:42:53.917755",
     "exception": false,
     "start_time": "2022-03-17T09:42:53.815312",
     "status": "completed"
    },
    "tags": []
   },
   "source": [
    "### Results"
   ]
  },
  {
   "cell_type": "code",
   "execution_count": 7,
   "id": "34f8aa1f",
   "metadata": {
    "execution": {
     "iopub.execute_input": "2022-03-17T09:42:54.144859Z",
     "iopub.status.busy": "2022-03-17T09:42:54.143925Z",
     "iopub.status.idle": "2022-03-17T09:42:54.158991Z",
     "shell.execute_reply": "2022-03-17T09:42:54.159470Z",
     "shell.execute_reply.started": "2022-03-17T09:23:13.056905Z"
    },
    "papermill": {
     "duration": 0.137723,
     "end_time": "2022-03-17T09:42:54.159645",
     "exception": false,
     "start_time": "2022-03-17T09:42:54.021922",
     "status": "completed"
    },
    "tags": []
   },
   "outputs": [],
   "source": [
    "result_container = soup.find_all('tr', {'class':'table-row'})"
   ]
  },
  {
   "cell_type": "code",
   "execution_count": 8,
   "id": "79b51056",
   "metadata": {
    "execution": {
     "iopub.execute_input": "2022-03-17T09:42:54.369213Z",
     "iopub.status.busy": "2022-03-17T09:42:54.368486Z",
     "iopub.status.idle": "2022-03-17T09:42:54.371564Z",
     "shell.execute_reply": "2022-03-17T09:42:54.372035Z",
     "shell.execute_reply.started": "2022-03-17T09:23:13.107281Z"
    },
    "papermill": {
     "duration": 0.110656,
     "end_time": "2022-03-17T09:42:54.372238",
     "exception": false,
     "start_time": "2022-03-17T09:42:54.261582",
     "status": "completed"
    },
    "tags": []
   },
   "outputs": [
    {
     "data": {
      "text/plain": [
       "25"
      ]
     },
     "execution_count": 8,
     "metadata": {},
     "output_type": "execute_result"
    }
   ],
   "source": [
    "len(result_container) # check the result on the website page"
   ]
  },
  {
   "cell_type": "markdown",
   "id": "1d820356",
   "metadata": {
    "papermill": {
     "duration": 0.103834,
     "end_time": "2022-03-17T09:42:54.579194",
     "exception": false,
     "start_time": "2022-03-17T09:42:54.475360",
     "status": "completed"
    },
    "tags": []
   },
   "source": [
    "#### To scrap all the player stats we neet to enter each page one by one; to do so we need to have the links of all the payers links:\n"
   ]
  },
  {
   "cell_type": "markdown",
   "id": "bc5cbf7a",
   "metadata": {
    "papermill": {
     "duration": 0.103264,
     "end_time": "2022-03-17T09:42:54.786210",
     "exception": false,
     "start_time": "2022-03-17T09:42:54.682946",
     "status": "completed"
    },
    "tags": []
   },
   "source": [
    " So let's do that shall we!!"
   ]
  },
  {
   "cell_type": "code",
   "execution_count": 9,
   "id": "5c973c40",
   "metadata": {
    "execution": {
     "iopub.execute_input": "2022-03-17T09:42:54.999865Z",
     "iopub.status.busy": "2022-03-17T09:42:54.998880Z",
     "iopub.status.idle": "2022-03-17T09:42:55.002248Z",
     "shell.execute_reply": "2022-03-17T09:42:55.002842Z",
     "shell.execute_reply.started": "2022-03-17T09:23:13.115099Z"
    },
    "papermill": {
     "duration": 0.110372,
     "end_time": "2022-03-17T09:42:55.003007",
     "exception": false,
     "start_time": "2022-03-17T09:42:54.892635",
     "status": "completed"
    },
    "tags": []
   },
   "outputs": [],
   "source": [
    "#results_update = result_container"
   ]
  },
  {
   "cell_type": "code",
   "execution_count": 10,
   "id": "d99ed034",
   "metadata": {
    "execution": {
     "iopub.execute_input": "2022-03-17T09:42:55.219625Z",
     "iopub.status.busy": "2022-03-17T09:42:55.218548Z",
     "iopub.status.idle": "2022-03-17T09:42:55.223603Z",
     "shell.execute_reply": "2022-03-17T09:42:55.224548Z",
     "shell.execute_reply.started": "2022-03-17T09:23:13.128242Z"
    },
    "papermill": {
     "duration": 0.118991,
     "end_time": "2022-03-17T09:42:55.224808",
     "exception": false,
     "start_time": "2022-03-17T09:42:55.105817",
     "status": "completed"
    },
    "tags": []
   },
   "outputs": [],
   "source": [
    "#len(results_update) "
   ]
  },
  {
   "cell_type": "markdown",
   "id": "b9a7c5f8",
   "metadata": {
    "papermill": {
     "duration": 0.112845,
     "end_time": "2022-03-17T09:42:55.453192",
     "exception": false,
     "start_time": "2022-03-17T09:42:55.340347",
     "status": "completed"
    },
    "tags": []
   },
   "source": [
    "#### The url is composted from two parts: 1st is https://www.futwiz.com/ and 2ed is :en/fifa22/player/pele/17068"
   ]
  },
  {
   "cell_type": "markdown",
   "id": "8e91cf9a",
   "metadata": {
    "papermill": {
     "duration": 0.102631,
     "end_time": "2022-03-17T09:42:55.666362",
     "exception": false,
     "start_time": "2022-03-17T09:42:55.563731",
     "status": "completed"
    },
    "tags": []
   },
   "source": [
    "#### URL Part 1"
   ]
  },
  {
   "cell_type": "code",
   "execution_count": 11,
   "id": "65d3b4f7",
   "metadata": {
    "execution": {
     "iopub.execute_input": "2022-03-17T09:42:55.880826Z",
     "iopub.status.busy": "2022-03-17T09:42:55.878784Z",
     "iopub.status.idle": "2022-03-17T09:42:55.883641Z",
     "shell.execute_reply": "2022-03-17T09:42:55.882995Z",
     "shell.execute_reply.started": "2022-03-17T09:23:13.1389Z"
    },
    "papermill": {
     "duration": 0.114016,
     "end_time": "2022-03-17T09:42:55.883781",
     "exception": false,
     "start_time": "2022-03-17T09:42:55.769765",
     "status": "completed"
    },
    "tags": []
   },
   "outputs": [],
   "source": [
    "url_part_1 = 'https://www.futwiz.com/'"
   ]
  },
  {
   "cell_type": "markdown",
   "id": "19308f87",
   "metadata": {
    "papermill": {
     "duration": 0.103468,
     "end_time": "2022-03-17T09:42:56.095246",
     "exception": false,
     "start_time": "2022-03-17T09:42:55.991778",
     "status": "completed"
    },
    "tags": []
   },
   "source": [
    "#### Create List for URL Part 2 to get the second link"
   ]
  },
  {
   "cell_type": "code",
   "execution_count": 12,
   "id": "e0e02065",
   "metadata": {
    "execution": {
     "iopub.execute_input": "2022-03-17T09:42:56.308844Z",
     "iopub.status.busy": "2022-03-17T09:42:56.307857Z",
     "iopub.status.idle": "2022-03-17T09:42:56.322549Z",
     "shell.execute_reply": "2022-03-17T09:42:56.323141Z",
     "shell.execute_reply.started": "2022-03-17T09:23:13.150131Z"
    },
    "papermill": {
     "duration": 0.125509,
     "end_time": "2022-03-17T09:42:56.323312",
     "exception": false,
     "start_time": "2022-03-17T09:42:56.197803",
     "status": "completed"
    },
    "tags": []
   },
   "outputs": [],
   "source": [
    "url_part_2 = []\n",
    "\n",
    "for item in result_container:\n",
    "    \n",
    "    for link in item.find_all('td', {'class':'face'}):\n",
    "        url_part_2.append(link.find('a').get('href'))"
   ]
  },
  {
   "cell_type": "code",
   "execution_count": 13,
   "id": "8e0dec6a",
   "metadata": {
    "execution": {
     "iopub.execute_input": "2022-03-17T09:42:56.531992Z",
     "iopub.status.busy": "2022-03-17T09:42:56.530995Z",
     "iopub.status.idle": "2022-03-17T09:42:56.536249Z",
     "shell.execute_reply": "2022-03-17T09:42:56.536828Z",
     "shell.execute_reply.started": "2022-03-17T09:23:13.17382Z"
    },
    "papermill": {
     "duration": 0.111481,
     "end_time": "2022-03-17T09:42:56.536992",
     "exception": false,
     "start_time": "2022-03-17T09:42:56.425511",
     "status": "completed"
    },
    "tags": []
   },
   "outputs": [
    {
     "data": {
      "text/plain": [
       "25"
      ]
     },
     "execution_count": 13,
     "metadata": {},
     "output_type": "execute_result"
    }
   ],
   "source": [
    "len(url_part_2) # the same as our result, Good"
   ]
  },
  {
   "cell_type": "markdown",
   "id": "01c3458b",
   "metadata": {
    "papermill": {
     "duration": 0.103166,
     "end_time": "2022-03-17T09:42:56.744073",
     "exception": false,
     "start_time": "2022-03-17T09:42:56.640907",
     "status": "completed"
    },
    "tags": []
   },
   "source": [
    "#### Let's join Url 1 and Url 2"
   ]
  },
  {
   "cell_type": "code",
   "execution_count": 14,
   "id": "9b1c40eb",
   "metadata": {
    "execution": {
     "iopub.execute_input": "2022-03-17T09:42:56.959187Z",
     "iopub.status.busy": "2022-03-17T09:42:56.958260Z",
     "iopub.status.idle": "2022-03-17T09:42:56.961445Z",
     "shell.execute_reply": "2022-03-17T09:42:56.960663Z",
     "shell.execute_reply.started": "2022-03-17T09:23:13.188037Z"
    },
    "papermill": {
     "duration": 0.113964,
     "end_time": "2022-03-17T09:42:56.961609",
     "exception": false,
     "start_time": "2022-03-17T09:42:56.847645",
     "status": "completed"
    },
    "tags": []
   },
   "outputs": [],
   "source": [
    "url_joined = []\n",
    "\n",
    "for link_2 in url_part_2:\n",
    "    url_joined.append(urllib.parse.urljoin(url_part_1,link_2))"
   ]
  },
  {
   "cell_type": "code",
   "execution_count": 15,
   "id": "5cb2b294",
   "metadata": {
    "execution": {
     "iopub.execute_input": "2022-03-17T09:42:57.176357Z",
     "iopub.status.busy": "2022-03-17T09:42:57.175668Z",
     "iopub.status.idle": "2022-03-17T09:42:57.178378Z",
     "shell.execute_reply": "2022-03-17T09:42:57.178942Z",
     "shell.execute_reply.started": "2022-03-17T09:23:13.196289Z"
    },
    "papermill": {
     "duration": 0.113062,
     "end_time": "2022-03-17T09:42:57.179120",
     "exception": false,
     "start_time": "2022-03-17T09:42:57.066058",
     "status": "completed"
    },
    "tags": []
   },
   "outputs": [
    {
     "data": {
      "text/plain": [
       "['https://www.futwiz.com/en/fifa22/player/pele/17068',\n",
       " 'https://www.futwiz.com/en/fifa22/player/diego-maradona/17067',\n",
       " 'https://www.futwiz.com/en/fifa22/player/lionel-messi/313',\n",
       " 'https://www.futwiz.com/en/fifa22/player/xavi/20293',\n",
       " 'https://www.futwiz.com/en/fifa22/player/puyol/20280',\n",
       " 'https://www.futwiz.com/en/fifa22/player/george-best/20278',\n",
       " 'https://www.futwiz.com/en/fifa22/player/ruud-gullit/20276',\n",
       " 'https://www.futwiz.com/en/fifa22/player/franco-baresi/20269',\n",
       " 'https://www.futwiz.com/en/fifa22/player/thierry-henry/20258',\n",
       " 'https://www.futwiz.com/en/fifa22/player/cafu/20192',\n",
       " 'https://www.futwiz.com/en/fifa22/player/david-beckham/20191',\n",
       " 'https://www.futwiz.com/en/fifa22/player/eric-cantona/20187',\n",
       " 'https://www.futwiz.com/en/fifa22/player/carlos-alberto-torres/20180',\n",
       " 'https://www.futwiz.com/en/fifa22/player/eusebio/20173',\n",
       " 'https://www.futwiz.com/en/fifa22/player/lothar-matthaus/20168',\n",
       " 'https://www.futwiz.com/en/fifa22/player/marco-van-basten/20162',\n",
       " 'https://www.futwiz.com/en/fifa22/player/roberto-baggio/20152',\n",
       " 'https://www.futwiz.com/en/fifa22/player/cristiano-ronaldo/20112',\n",
       " 'https://www.futwiz.com/en/fifa22/player/robert-lewandowski/19523',\n",
       " 'https://www.futwiz.com/en/fifa22/player/mohamed-salah/18575',\n",
       " 'https://www.futwiz.com/en/fifa22/player/joao-cancelo/18321',\n",
       " 'https://www.futwiz.com/en/fifa22/player/mohamed-salah/18240',\n",
       " 'https://www.futwiz.com/en/fifa22/player/ronaldinho/18156',\n",
       " 'https://www.futwiz.com/en/fifa22/player/johan-cruyff/18155',\n",
       " 'https://www.futwiz.com/en/fifa22/player/lev-yashin/18154']"
      ]
     },
     "execution_count": 15,
     "metadata": {},
     "output_type": "execute_result"
    }
   ],
   "source": [
    "url_joined"
   ]
  },
  {
   "cell_type": "code",
   "execution_count": 16,
   "id": "3305d578",
   "metadata": {
    "execution": {
     "iopub.execute_input": "2022-03-17T09:42:57.389407Z",
     "iopub.status.busy": "2022-03-17T09:42:57.388796Z",
     "iopub.status.idle": "2022-03-17T09:42:57.394475Z",
     "shell.execute_reply": "2022-03-17T09:42:57.393901Z",
     "shell.execute_reply.started": "2022-03-17T09:23:13.211222Z"
    },
    "papermill": {
     "duration": 0.111554,
     "end_time": "2022-03-17T09:42:57.394609",
     "exception": false,
     "start_time": "2022-03-17T09:42:57.283055",
     "status": "completed"
    },
    "tags": []
   },
   "outputs": [
    {
     "data": {
      "text/plain": [
       "25"
      ]
     },
     "execution_count": 16,
     "metadata": {},
     "output_type": "execute_result"
    }
   ],
   "source": [
    "len(url_joined) #GOOD"
   ]
  },
  {
   "cell_type": "markdown",
   "id": "7853fe50",
   "metadata": {
    "papermill": {
     "duration": 0.103591,
     "end_time": "2022-03-17T09:42:57.602502",
     "exception": false,
     "start_time": "2022-03-17T09:42:57.498911",
     "status": "completed"
    },
    "tags": []
   },
   "source": [
    "### Now let's get data from first link "
   ]
  },
  {
   "cell_type": "markdown",
   "id": "f81e3a81",
   "metadata": {
    "papermill": {
     "duration": 0.103239,
     "end_time": "2022-03-17T09:42:57.809701",
     "exception": false,
     "start_time": "2022-03-17T09:42:57.706462",
     "status": "completed"
    },
    "tags": []
   },
   "source": [
    "These are the attributes we are interested in :\n",
    "Player \n",
    "Skills \n",
    "Weakfoot\n",
    "Workrate\n",
    "Xbox_Price \n",
    "PS4_5_Price \n",
    "Pc_Price \n",
    "Pac \n",
    "Acceleration \n",
    "Sprint_speed \n",
    "Shoot \n",
    "Pass \n",
    "Drible \n",
    "Defense \n",
    "Physic \n",
    "Position "
   ]
  },
  {
   "cell_type": "markdown",
   "id": "a63d70ef",
   "metadata": {
    "papermill": {
     "duration": 0.103312,
     "end_time": "2022-03-17T09:42:58.018248",
     "exception": false,
     "start_time": "2022-03-17T09:42:57.914936",
     "status": "completed"
    },
    "tags": []
   },
   "source": [
    "#### Store first link in variable"
   ]
  },
  {
   "cell_type": "code",
   "execution_count": 17,
   "id": "987f2279",
   "metadata": {
    "execution": {
     "iopub.execute_input": "2022-03-17T09:42:58.228154Z",
     "iopub.status.busy": "2022-03-17T09:42:58.227535Z",
     "iopub.status.idle": "2022-03-17T09:42:58.230645Z",
     "shell.execute_reply": "2022-03-17T09:42:58.231241Z",
     "shell.execute_reply.started": "2022-03-17T09:23:13.222933Z"
    },
    "papermill": {
     "duration": 0.109012,
     "end_time": "2022-03-17T09:42:58.231402",
     "exception": false,
     "start_time": "2022-03-17T09:42:58.122390",
     "status": "completed"
    },
    "tags": []
   },
   "outputs": [],
   "source": [
    "first_link = url_joined[0]"
   ]
  },
  {
   "cell_type": "code",
   "execution_count": 18,
   "id": "4f87ac60",
   "metadata": {
    "execution": {
     "iopub.execute_input": "2022-03-17T09:42:58.443499Z",
     "iopub.status.busy": "2022-03-17T09:42:58.442889Z",
     "iopub.status.idle": "2022-03-17T09:42:58.447078Z",
     "shell.execute_reply": "2022-03-17T09:42:58.447641Z",
     "shell.execute_reply.started": "2022-03-17T09:23:13.232934Z"
    },
    "papermill": {
     "duration": 0.109843,
     "end_time": "2022-03-17T09:42:58.447805",
     "exception": false,
     "start_time": "2022-03-17T09:42:58.337962",
     "status": "completed"
    },
    "tags": []
   },
   "outputs": [
    {
     "data": {
      "text/plain": [
       "'https://www.futwiz.com/en/fifa22/player/pele/17068'"
      ]
     },
     "execution_count": 18,
     "metadata": {},
     "output_type": "execute_result"
    }
   ],
   "source": [
    "first_link"
   ]
  },
  {
   "cell_type": "markdown",
   "id": "e3ff97c8",
   "metadata": {
    "papermill": {
     "duration": 0.103222,
     "end_time": "2022-03-17T09:42:58.655151",
     "exception": false,
     "start_time": "2022-03-17T09:42:58.551929",
     "status": "completed"
    },
    "tags": []
   },
   "source": [
    "#### Get Request & Soup Object"
   ]
  },
  {
   "cell_type": "code",
   "execution_count": 19,
   "id": "1a7880e6",
   "metadata": {
    "execution": {
     "iopub.execute_input": "2022-03-17T09:42:58.871261Z",
     "iopub.status.busy": "2022-03-17T09:42:58.870557Z",
     "iopub.status.idle": "2022-03-17T09:42:59.411629Z",
     "shell.execute_reply": "2022-03-17T09:42:59.410994Z",
     "shell.execute_reply.started": "2022-03-17T09:23:13.24813Z"
    },
    "papermill": {
     "duration": 0.653567,
     "end_time": "2022-03-17T09:42:59.411781",
     "exception": false,
     "start_time": "2022-03-17T09:42:58.758214",
     "status": "completed"
    },
    "tags": []
   },
   "outputs": [],
   "source": [
    "response = requests.get(first_link)"
   ]
  },
  {
   "cell_type": "code",
   "execution_count": 20,
   "id": "d059fdba",
   "metadata": {
    "execution": {
     "iopub.execute_input": "2022-03-17T09:42:59.625159Z",
     "iopub.status.busy": "2022-03-17T09:42:59.624512Z",
     "iopub.status.idle": "2022-03-17T09:42:59.707441Z",
     "shell.execute_reply": "2022-03-17T09:42:59.706725Z",
     "shell.execute_reply.started": "2022-03-17T09:23:13.780119Z"
    },
    "papermill": {
     "duration": 0.191283,
     "end_time": "2022-03-17T09:42:59.707595",
     "exception": false,
     "start_time": "2022-03-17T09:42:59.516312",
     "status": "completed"
    },
    "tags": []
   },
   "outputs": [],
   "source": [
    "soup = BeautifulSoup(response.content, 'html.parser')"
   ]
  },
  {
   "cell_type": "code",
   "execution_count": 21,
   "id": "677342a4",
   "metadata": {
    "execution": {
     "iopub.execute_input": "2022-03-17T09:42:59.918884Z",
     "iopub.status.busy": "2022-03-17T09:42:59.918183Z",
     "iopub.status.idle": "2022-03-17T09:42:59.921481Z",
     "shell.execute_reply": "2022-03-17T09:42:59.921910Z",
     "shell.execute_reply.started": "2022-03-17T09:23:13.870026Z"
    },
    "papermill": {
     "duration": 0.111275,
     "end_time": "2022-03-17T09:42:59.922077",
     "exception": false,
     "start_time": "2022-03-17T09:42:59.810802",
     "status": "completed"
    },
    "tags": []
   },
   "outputs": [],
   "source": [
    "#### Let's find where the player attributes stored in:"
   ]
  },
  {
   "cell_type": "code",
   "execution_count": 22,
   "id": "fdfef30a",
   "metadata": {
    "execution": {
     "iopub.execute_input": "2022-03-17T09:43:00.137294Z",
     "iopub.status.busy": "2022-03-17T09:43:00.136625Z",
     "iopub.status.idle": "2022-03-17T09:43:00.151368Z",
     "shell.execute_reply": "2022-03-17T09:43:00.151913Z",
     "shell.execute_reply.started": "2022-03-17T09:23:13.876534Z"
    },
    "papermill": {
     "duration": 0.124799,
     "end_time": "2022-03-17T09:43:00.152093",
     "exception": false,
     "start_time": "2022-03-17T09:43:00.027294",
     "status": "completed"
    },
    "tags": []
   },
   "outputs": [],
   "source": [
    "player_attr = soup.find_all('div', {'class':'playerprofile-info text-center'})"
   ]
  },
  {
   "cell_type": "code",
   "execution_count": 23,
   "id": "e0b56949",
   "metadata": {
    "execution": {
     "iopub.execute_input": "2022-03-17T09:43:00.369273Z",
     "iopub.status.busy": "2022-03-17T09:43:00.368596Z",
     "iopub.status.idle": "2022-03-17T09:43:00.371308Z",
     "shell.execute_reply": "2022-03-17T09:43:00.371793Z",
     "shell.execute_reply.started": "2022-03-17T09:23:13.898949Z"
    },
    "papermill": {
     "duration": 0.113674,
     "end_time": "2022-03-17T09:43:00.371951",
     "exception": false,
     "start_time": "2022-03-17T09:43:00.258277",
     "status": "completed"
    },
    "tags": []
   },
   "outputs": [
    {
     "data": {
      "text/plain": [
       "[<div class=\"playerprofile-info text-center\">\n",
       " <div class=\"playerprofile-db\">\n",
       " <p class=\"ppdb-d ppskills\">5 <i class=\"fa fa-star\"></i></p>\n",
       " <p class=\"ppdb-l\">Skills</p>\n",
       " </div>\n",
       " <div class=\"playerprofile-db\">\n",
       " <p class=\"ppdb-d ppskills\">4 <i class=\"fa fa-star\"></i></p>\n",
       " <p class=\"ppdb-l\">Weakfoot</p>\n",
       " </div>\n",
       " <div class=\"playerprofile-db\">\n",
       " <p class=\"ppdb-d\">80</p>\n",
       " <p class=\"ppdb-l\">AGE</p>\n",
       " </div>\n",
       " <div class=\"playerprofile-db\">\n",
       " <p class=\"ppdb-d\">5' 8\"</p>\n",
       " <p class=\"ppdb-l\">173cm TALL</p>\n",
       " </div>\n",
       " <div class=\"playerprofile-db\">\n",
       " <p class=\"ppdb-d\">0kg</p>\n",
       " <p class=\"ppdb-l\">Weight</p>\n",
       " </div>\n",
       " <div class=\"playerprofile-db\">\n",
       " <p class=\"ppdb-d\">HIGH/MED</p>\n",
       " <p class=\"ppdb-l\">Workrates</p>\n",
       " </div>\n",
       " <div class=\"playerprofile-db\">\n",
       " <p class=\"ppdb-d\">Right</p>\n",
       " <p class=\"ppdb-l\">Footed</p>\n",
       " </div>\n",
       " </div>]"
      ]
     },
     "execution_count": 23,
     "metadata": {},
     "output_type": "execute_result"
    }
   ],
   "source": [
    "player_attr"
   ]
  },
  {
   "cell_type": "code",
   "execution_count": 24,
   "id": "a4e214f7",
   "metadata": {
    "execution": {
     "iopub.execute_input": "2022-03-17T09:43:00.588229Z",
     "iopub.status.busy": "2022-03-17T09:43:00.587545Z",
     "iopub.status.idle": "2022-03-17T09:43:00.605005Z",
     "shell.execute_reply": "2022-03-17T09:43:00.605607Z",
     "shell.execute_reply.started": "2022-03-17T09:23:13.915925Z"
    },
    "papermill": {
     "duration": 0.127545,
     "end_time": "2022-03-17T09:43:00.605782",
     "exception": false,
     "start_time": "2022-03-17T09:43:00.478237",
     "status": "completed"
    },
    "tags": []
   },
   "outputs": [
    {
     "data": {
      "text/plain": [
       "[<div class=\"playerprofile-db\">\n",
       " <p class=\"ppdb-d ppskills\">5 <i class=\"fa fa-star\"></i></p>\n",
       " <p class=\"ppdb-l\">Skills</p>\n",
       " </div>,\n",
       " <div class=\"playerprofile-db\">\n",
       " <p class=\"ppdb-d ppskills\">4 <i class=\"fa fa-star\"></i></p>\n",
       " <p class=\"ppdb-l\">Weakfoot</p>\n",
       " </div>,\n",
       " <div class=\"playerprofile-db\">\n",
       " <p class=\"ppdb-d\">80</p>\n",
       " <p class=\"ppdb-l\">AGE</p>\n",
       " </div>,\n",
       " <div class=\"playerprofile-db\">\n",
       " <p class=\"ppdb-d\">5' 8\"</p>\n",
       " <p class=\"ppdb-l\">173cm TALL</p>\n",
       " </div>,\n",
       " <div class=\"playerprofile-db\">\n",
       " <p class=\"ppdb-d\">0kg</p>\n",
       " <p class=\"ppdb-l\">Weight</p>\n",
       " </div>,\n",
       " <div class=\"playerprofile-db\">\n",
       " <p class=\"ppdb-d\">HIGH/MED</p>\n",
       " <p class=\"ppdb-l\">Workrates</p>\n",
       " </div>,\n",
       " <div class=\"playerprofile-db\">\n",
       " <p class=\"ppdb-d\">Right</p>\n",
       " <p class=\"ppdb-l\">Footed</p>\n",
       " </div>,\n",
       " <div class=\"playerprofile-db\">\n",
       " <p class=\"ppdb-d ppskills\">5 <i class=\"fa fa-star\"></i></p>\n",
       " <p class=\"ppdb-l\">Skills</p>\n",
       " </div>,\n",
       " <div class=\"playerprofile-db\">\n",
       " <p class=\"ppdb-d ppskills\">4 <i class=\"fa fa-star\"></i></p>\n",
       " <p class=\"ppdb-l\">Weakfoot</p>\n",
       " </div>,\n",
       " <div class=\"playerprofile-db\">\n",
       " <p class=\"ppdb-d\">80</p>\n",
       " <p class=\"ppdb-l\">AGE</p>\n",
       " </div>,\n",
       " <div class=\"playerprofile-db\">\n",
       " <p class=\"ppdb-d\">5' 8\"</p>\n",
       " <p class=\"ppdb-l\">173cm TALL</p>\n",
       " </div>,\n",
       " <div class=\"playerprofile-db\">\n",
       " <p class=\"ppdb-d\">0kg</p>\n",
       " <p class=\"ppdb-l\">Weight</p>\n",
       " </div>,\n",
       " <div class=\"playerprofile-db\">\n",
       " <p class=\"ppdb-d\">HIGH/MED</p>\n",
       " <p class=\"ppdb-l\">Workrates</p>\n",
       " </div>,\n",
       " <div class=\"playerprofile-db\">\n",
       " <p class=\"ppdb-d\">Right</p>\n",
       " <p class=\"ppdb-l\">Footed</p>\n",
       " </div>]"
      ]
     },
     "execution_count": 24,
     "metadata": {},
     "output_type": "execute_result"
    }
   ],
   "source": [
    "player_attr_ele = soup.find_all('div',{'class':'playerprofile-db'})\n",
    "player_attr_ele"
   ]
  },
  {
   "cell_type": "markdown",
   "id": "24a91f37",
   "metadata": {
    "papermill": {
     "duration": 0.106299,
     "end_time": "2022-03-17T09:43:00.818071",
     "exception": false,
     "start_time": "2022-03-17T09:43:00.711772",
     "status": "completed"
    },
    "tags": []
   },
   "source": [
    "#### Let's extract all the attributes :"
   ]
  },
  {
   "cell_type": "markdown",
   "id": "7ef79e85",
   "metadata": {
    "papermill": {
     "duration": 0.105453,
     "end_time": "2022-03-17T09:43:01.033259",
     "exception": false,
     "start_time": "2022-03-17T09:43:00.927806",
     "status": "completed"
    },
    "tags": []
   },
   "source": [
    "#### Player Name"
   ]
  },
  {
   "cell_type": "code",
   "execution_count": 25,
   "id": "c6000908",
   "metadata": {
    "execution": {
     "iopub.execute_input": "2022-03-17T09:43:01.247028Z",
     "iopub.status.busy": "2022-03-17T09:43:01.246411Z",
     "iopub.status.idle": "2022-03-17T09:43:01.253533Z",
     "shell.execute_reply": "2022-03-17T09:43:01.254177Z",
     "shell.execute_reply.started": "2022-03-17T09:23:13.943587Z"
    },
    "papermill": {
     "duration": 0.115758,
     "end_time": "2022-03-17T09:43:01.254346",
     "exception": false,
     "start_time": "2022-03-17T09:43:01.138588",
     "status": "completed"
    },
    "tags": []
   },
   "outputs": [
    {
     "data": {
      "text/plain": [
       "'Pele'"
      ]
     },
     "execution_count": 25,
     "metadata": {},
     "output_type": "execute_result"
    }
   ],
   "source": [
    "soup.find('div', {'style':'display:block;'}).get_text()"
   ]
  },
  {
   "cell_type": "markdown",
   "id": "246a7e1a",
   "metadata": {
    "papermill": {
     "duration": 0.105584,
     "end_time": "2022-03-17T09:43:01.465767",
     "exception": false,
     "start_time": "2022-03-17T09:43:01.360183",
     "status": "completed"
    },
    "tags": []
   },
   "source": [
    "#### SKILLS"
   ]
  },
  {
   "cell_type": "code",
   "execution_count": 26,
   "id": "2987585d",
   "metadata": {
    "execution": {
     "iopub.execute_input": "2022-03-17T09:43:01.680839Z",
     "iopub.status.busy": "2022-03-17T09:43:01.680152Z",
     "iopub.status.idle": "2022-03-17T09:43:01.688624Z",
     "shell.execute_reply": "2022-03-17T09:43:01.689228Z",
     "shell.execute_reply.started": "2022-03-17T09:23:13.955287Z"
    },
    "papermill": {
     "duration": 0.117128,
     "end_time": "2022-03-17T09:43:01.689395",
     "exception": false,
     "start_time": "2022-03-17T09:43:01.572267",
     "status": "completed"
    },
    "tags": []
   },
   "outputs": [
    {
     "data": {
      "text/plain": [
       "'5 '"
      ]
     },
     "execution_count": 26,
     "metadata": {},
     "output_type": "execute_result"
    }
   ],
   "source": [
    "soup.find('i', {'class':'fa fa-star'}).previous_sibling"
   ]
  },
  {
   "cell_type": "markdown",
   "id": "f7e449a6",
   "metadata": {
    "papermill": {
     "duration": 0.107965,
     "end_time": "2022-03-17T09:43:01.902814",
     "exception": false,
     "start_time": "2022-03-17T09:43:01.794849",
     "status": "completed"
    },
    "tags": []
   },
   "source": [
    "#### WEAKFOOT"
   ]
  },
  {
   "cell_type": "code",
   "execution_count": 27,
   "id": "ae720037",
   "metadata": {
    "execution": {
     "iopub.execute_input": "2022-03-17T09:43:02.118388Z",
     "iopub.status.busy": "2022-03-17T09:43:02.117718Z",
     "iopub.status.idle": "2022-03-17T09:43:02.127458Z",
     "shell.execute_reply": "2022-03-17T09:43:02.127912Z",
     "shell.execute_reply.started": "2022-03-17T09:23:13.971692Z"
    },
    "papermill": {
     "duration": 0.119142,
     "end_time": "2022-03-17T09:43:02.128080",
     "exception": false,
     "start_time": "2022-03-17T09:43:02.008938",
     "status": "completed"
    },
    "tags": []
   },
   "outputs": [
    {
     "data": {
      "text/plain": [
       "'4 '"
      ]
     },
     "execution_count": 27,
     "metadata": {},
     "output_type": "execute_result"
    }
   ],
   "source": [
    "soup.find('p', string='Skills').findNext('p').get_text()"
   ]
  },
  {
   "cell_type": "markdown",
   "id": "0871a1d2",
   "metadata": {
    "papermill": {
     "duration": 0.105151,
     "end_time": "2022-03-17T09:43:02.339599",
     "exception": false,
     "start_time": "2022-03-17T09:43:02.234448",
     "status": "completed"
    },
    "tags": []
   },
   "source": [
    "#### WORKRATES"
   ]
  },
  {
   "cell_type": "code",
   "execution_count": 28,
   "id": "7ff07118",
   "metadata": {
    "execution": {
     "iopub.execute_input": "2022-03-17T09:43:02.554595Z",
     "iopub.status.busy": "2022-03-17T09:43:02.553997Z",
     "iopub.status.idle": "2022-03-17T09:43:02.562493Z",
     "shell.execute_reply": "2022-03-17T09:43:02.563039Z",
     "shell.execute_reply.started": "2022-03-17T09:23:13.991505Z"
    },
    "papermill": {
     "duration": 0.117362,
     "end_time": "2022-03-17T09:43:02.563219",
     "exception": false,
     "start_time": "2022-03-17T09:43:02.445857",
     "status": "completed"
    },
    "tags": []
   },
   "outputs": [
    {
     "data": {
      "text/plain": [
       "'HIGH/MED'"
      ]
     },
     "execution_count": 28,
     "metadata": {},
     "output_type": "execute_result"
    }
   ],
   "source": [
    "soup.find('p', string='Weight').findNext('p').get_text()"
   ]
  },
  {
   "cell_type": "markdown",
   "id": "3c0c1820",
   "metadata": {
    "papermill": {
     "duration": 0.10674,
     "end_time": "2022-03-17T09:43:02.776219",
     "exception": false,
     "start_time": "2022-03-17T09:43:02.669479",
     "status": "completed"
    },
    "tags": []
   },
   "source": [
    "#### Xbox_Price"
   ]
  },
  {
   "cell_type": "code",
   "execution_count": 29,
   "id": "edb4b4bf",
   "metadata": {
    "execution": {
     "iopub.execute_input": "2022-03-17T09:43:02.994668Z",
     "iopub.status.busy": "2022-03-17T09:43:02.994049Z",
     "iopub.status.idle": "2022-03-17T09:43:03.002584Z",
     "shell.execute_reply": "2022-03-17T09:43:03.003079Z",
     "shell.execute_reply.started": "2022-03-17T09:23:14.006581Z"
    },
    "papermill": {
     "duration": 0.120572,
     "end_time": "2022-03-17T09:43:03.003259",
     "exception": false,
     "start_time": "2022-03-17T09:43:02.882687",
     "status": "completed"
    },
    "tags": []
   },
   "outputs": [
    {
     "data": {
      "text/plain": [
       "'\\n2,800,000\\n'"
      ]
     },
     "execution_count": 29,
     "metadata": {},
     "output_type": "execute_result"
    }
   ],
   "source": [
    "soup.find('img', {'src':'/assets/img/prices-xb-logo.png?r2'}).findNext('div').get_text()"
   ]
  },
  {
   "cell_type": "markdown",
   "id": "491a2cc8",
   "metadata": {
    "papermill": {
     "duration": 0.106083,
     "end_time": "2022-03-17T09:43:03.215825",
     "exception": false,
     "start_time": "2022-03-17T09:43:03.109742",
     "status": "completed"
    },
    "tags": []
   },
   "source": [
    "#### PS4_Price"
   ]
  },
  {
   "cell_type": "code",
   "execution_count": 30,
   "id": "54b4a555",
   "metadata": {
    "execution": {
     "iopub.execute_input": "2022-03-17T09:43:03.432804Z",
     "iopub.status.busy": "2022-03-17T09:43:03.432185Z",
     "iopub.status.idle": "2022-03-17T09:43:03.440713Z",
     "shell.execute_reply": "2022-03-17T09:43:03.441210Z",
     "shell.execute_reply.started": "2022-03-17T09:23:14.022041Z"
    },
    "papermill": {
     "duration": 0.118414,
     "end_time": "2022-03-17T09:43:03.441382",
     "exception": false,
     "start_time": "2022-03-17T09:43:03.322968",
     "status": "completed"
    },
    "tags": []
   },
   "outputs": [
    {
     "data": {
      "text/plain": [
       "'\\n3,469,000\\n'"
      ]
     },
     "execution_count": 30,
     "metadata": {},
     "output_type": "execute_result"
    }
   ],
   "source": [
    "soup.find('img', {'src':'/assets/img/prices-ps-logo.png?r2'}).findNext('div').get_text()"
   ]
  },
  {
   "cell_type": "markdown",
   "id": "8b957652",
   "metadata": {
    "papermill": {
     "duration": 0.106733,
     "end_time": "2022-03-17T09:43:03.654746",
     "exception": false,
     "start_time": "2022-03-17T09:43:03.548013",
     "status": "completed"
    },
    "tags": []
   },
   "source": [
    "#### PC_Price"
   ]
  },
  {
   "cell_type": "code",
   "execution_count": 31,
   "id": "f64eb2b1",
   "metadata": {
    "execution": {
     "iopub.execute_input": "2022-03-17T09:43:03.877916Z",
     "iopub.status.busy": "2022-03-17T09:43:03.877303Z",
     "iopub.status.idle": "2022-03-17T09:43:03.881695Z",
     "shell.execute_reply": "2022-03-17T09:43:03.881202Z",
     "shell.execute_reply.started": "2022-03-17T09:23:14.038427Z"
    },
    "papermill": {
     "duration": 0.119697,
     "end_time": "2022-03-17T09:43:03.881831",
     "exception": false,
     "start_time": "2022-03-17T09:43:03.762134",
     "status": "completed"
    },
    "tags": []
   },
   "outputs": [
    {
     "data": {
      "text/plain": [
       "'\\n 3,050,000\\n'"
      ]
     },
     "execution_count": 31,
     "metadata": {},
     "output_type": "execute_result"
    }
   ],
   "source": [
    "soup.find('img', {'src':'/assets/img/prices-pc-logo.png?r2'}).findNext('div').get_text()"
   ]
  },
  {
   "cell_type": "markdown",
   "id": "2791dcbc",
   "metadata": {
    "papermill": {
     "duration": 0.107414,
     "end_time": "2022-03-17T09:43:04.098461",
     "exception": false,
     "start_time": "2022-03-17T09:43:03.991047",
     "status": "completed"
    },
    "tags": []
   },
   "source": [
    "#### PAC"
   ]
  },
  {
   "cell_type": "code",
   "execution_count": 32,
   "id": "2d03111c",
   "metadata": {
    "execution": {
     "iopub.execute_input": "2022-03-17T09:43:04.325987Z",
     "iopub.status.busy": "2022-03-17T09:43:04.323230Z",
     "iopub.status.idle": "2022-03-17T09:43:04.329798Z",
     "shell.execute_reply": "2022-03-17T09:43:04.329326Z",
     "shell.execute_reply.started": "2022-03-17T09:23:14.056522Z"
    },
    "papermill": {
     "duration": 0.122724,
     "end_time": "2022-03-17T09:43:04.329930",
     "exception": false,
     "start_time": "2022-03-17T09:43:04.207206",
     "status": "completed"
    },
    "tags": []
   },
   "outputs": [
    {
     "data": {
      "text/plain": [
       "'96'"
      ]
     },
     "execution_count": 32,
     "metadata": {},
     "output_type": "execute_result"
    }
   ],
   "source": [
    "soup.find('div', {'class':'highestbarcolour att1bar'}).get_text()"
   ]
  },
  {
   "cell_type": "markdown",
   "id": "bebcdbf9",
   "metadata": {
    "papermill": {
     "duration": 0.108167,
     "end_time": "2022-03-17T09:43:04.546731",
     "exception": false,
     "start_time": "2022-03-17T09:43:04.438564",
     "status": "completed"
    },
    "tags": []
   },
   "source": [
    "#### Acceleration"
   ]
  },
  {
   "cell_type": "code",
   "execution_count": 33,
   "id": "5ba5fb69",
   "metadata": {
    "execution": {
     "iopub.execute_input": "2022-03-17T09:43:04.767976Z",
     "iopub.status.busy": "2022-03-17T09:43:04.767015Z",
     "iopub.status.idle": "2022-03-17T09:43:04.777923Z",
     "shell.execute_reply": "2022-03-17T09:43:04.778521Z",
     "shell.execute_reply.started": "2022-03-17T09:23:14.076274Z"
    },
    "papermill": {
     "duration": 0.123849,
     "end_time": "2022-03-17T09:43:04.778689",
     "exception": false,
     "start_time": "2022-03-17T09:43:04.654840",
     "status": "completed"
    },
    "tags": []
   },
   "outputs": [
    {
     "data": {
      "text/plain": [
       "'95'"
      ]
     },
     "execution_count": 33,
     "metadata": {},
     "output_type": "execute_result"
    }
   ],
   "source": [
    "soup.find('div', {'class':'individual-stat-bar-label'}).findNext('div').get_text()"
   ]
  },
  {
   "cell_type": "markdown",
   "id": "42604e8b",
   "metadata": {
    "papermill": {
     "duration": 0.110268,
     "end_time": "2022-03-17T09:43:04.999999",
     "exception": false,
     "start_time": "2022-03-17T09:43:04.889731",
     "status": "completed"
    },
    "tags": []
   },
   "source": [
    "#### Sprint Speed"
   ]
  },
  {
   "cell_type": "code",
   "execution_count": 34,
   "id": "6c77309d",
   "metadata": {
    "execution": {
     "iopub.execute_input": "2022-03-17T09:43:05.227007Z",
     "iopub.status.busy": "2022-03-17T09:43:05.226297Z",
     "iopub.status.idle": "2022-03-17T09:43:05.230715Z",
     "shell.execute_reply": "2022-03-17T09:43:05.231234Z",
     "shell.execute_reply.started": "2022-03-17T09:23:14.090509Z"
    },
    "papermill": {
     "duration": 0.121503,
     "end_time": "2022-03-17T09:43:05.231401",
     "exception": false,
     "start_time": "2022-03-17T09:43:05.109898",
     "status": "completed"
    },
    "tags": []
   },
   "outputs": [
    {
     "data": {
      "text/plain": [
       "'96'"
      ]
     },
     "execution_count": 34,
     "metadata": {},
     "output_type": "execute_result"
    }
   ],
   "source": [
    "soup.find('span', {'class':'sprintspeedboost'}).findNext('div').get_text()"
   ]
  },
  {
   "cell_type": "markdown",
   "id": "771fb31a",
   "metadata": {
    "papermill": {
     "duration": 0.108805,
     "end_time": "2022-03-17T09:43:05.450299",
     "exception": false,
     "start_time": "2022-03-17T09:43:05.341494",
     "status": "completed"
    },
    "tags": []
   },
   "source": [
    "#### SHO"
   ]
  },
  {
   "cell_type": "code",
   "execution_count": 35,
   "id": "97bb81a9",
   "metadata": {
    "execution": {
     "iopub.execute_input": "2022-03-17T09:43:05.670674Z",
     "iopub.status.busy": "2022-03-17T09:43:05.670048Z",
     "iopub.status.idle": "2022-03-17T09:43:05.679639Z",
     "shell.execute_reply": "2022-03-17T09:43:05.680120Z",
     "shell.execute_reply.started": "2022-03-17T09:23:14.107661Z"
    },
    "papermill": {
     "duration": 0.121222,
     "end_time": "2022-03-17T09:43:05.680283",
     "exception": false,
     "start_time": "2022-03-17T09:43:05.559061",
     "status": "completed"
    },
    "tags": []
   },
   "outputs": [
    {
     "data": {
      "text/plain": [
       "'93'"
      ]
     },
     "execution_count": 35,
     "metadata": {},
     "output_type": "execute_result"
    }
   ],
   "source": [
    "soup.find('div', string='Sho').findNext('div').get_text()"
   ]
  },
  {
   "cell_type": "markdown",
   "id": "1410aee2",
   "metadata": {
    "papermill": {
     "duration": 0.109089,
     "end_time": "2022-03-17T09:43:05.898487",
     "exception": false,
     "start_time": "2022-03-17T09:43:05.789398",
     "status": "completed"
    },
    "tags": []
   },
   "source": [
    "#### PASS"
   ]
  },
  {
   "cell_type": "code",
   "execution_count": 36,
   "id": "5e48bb8c",
   "metadata": {
    "execution": {
     "iopub.execute_input": "2022-03-17T09:43:06.121738Z",
     "iopub.status.busy": "2022-03-17T09:43:06.121065Z",
     "iopub.status.idle": "2022-03-17T09:43:06.131904Z",
     "shell.execute_reply": "2022-03-17T09:43:06.131395Z",
     "shell.execute_reply.started": "2022-03-17T09:23:14.13006Z"
    },
    "papermill": {
     "duration": 0.122059,
     "end_time": "2022-03-17T09:43:06.132045",
     "exception": false,
     "start_time": "2022-03-17T09:43:06.009986",
     "status": "completed"
    },
    "tags": []
   },
   "outputs": [
    {
     "data": {
      "text/plain": [
       "'90'"
      ]
     },
     "execution_count": 36,
     "metadata": {},
     "output_type": "execute_result"
    }
   ],
   "source": [
    "soup.find('div', string='Pas').findNext('div').get_text()"
   ]
  },
  {
   "cell_type": "markdown",
   "id": "61a26115",
   "metadata": {
    "papermill": {
     "duration": 0.112403,
     "end_time": "2022-03-17T09:43:06.354688",
     "exception": false,
     "start_time": "2022-03-17T09:43:06.242285",
     "status": "completed"
    },
    "tags": []
   },
   "source": [
    "#### DRI"
   ]
  },
  {
   "cell_type": "code",
   "execution_count": 37,
   "id": "f90388a4",
   "metadata": {
    "execution": {
     "iopub.execute_input": "2022-03-17T09:43:06.579336Z",
     "iopub.status.busy": "2022-03-17T09:43:06.578667Z",
     "iopub.status.idle": "2022-03-17T09:43:06.589071Z",
     "shell.execute_reply": "2022-03-17T09:43:06.589638Z",
     "shell.execute_reply.started": "2022-03-17T09:23:14.146711Z"
    },
    "papermill": {
     "duration": 0.124038,
     "end_time": "2022-03-17T09:43:06.589803",
     "exception": false,
     "start_time": "2022-03-17T09:43:06.465765",
     "status": "completed"
    },
    "tags": []
   },
   "outputs": [
    {
     "data": {
      "text/plain": [
       "'95'"
      ]
     },
     "execution_count": 37,
     "metadata": {},
     "output_type": "execute_result"
    }
   ],
   "source": [
    "soup.find('div', string='Dri').findNext('div').get_text()"
   ]
  },
  {
   "cell_type": "markdown",
   "id": "d904eabd",
   "metadata": {
    "papermill": {
     "duration": 0.110927,
     "end_time": "2022-03-17T09:43:06.811212",
     "exception": false,
     "start_time": "2022-03-17T09:43:06.700285",
     "status": "completed"
    },
    "tags": []
   },
   "source": [
    "#### Def"
   ]
  },
  {
   "cell_type": "code",
   "execution_count": 38,
   "id": "18d1a9eb",
   "metadata": {
    "execution": {
     "iopub.execute_input": "2022-03-17T09:43:07.042336Z",
     "iopub.status.busy": "2022-03-17T09:43:07.041670Z",
     "iopub.status.idle": "2022-03-17T09:43:07.052754Z",
     "shell.execute_reply": "2022-03-17T09:43:07.053351Z",
     "shell.execute_reply.started": "2022-03-17T09:23:14.164414Z"
    },
    "papermill": {
     "duration": 0.128518,
     "end_time": "2022-03-17T09:43:07.053517",
     "exception": false,
     "start_time": "2022-03-17T09:43:06.924999",
     "status": "completed"
    },
    "tags": []
   },
   "outputs": [
    {
     "data": {
      "text/plain": [
       "'56'"
      ]
     },
     "execution_count": 38,
     "metadata": {},
     "output_type": "execute_result"
    }
   ],
   "source": [
    "soup.find('div', string='Def').findNext('div').get_text()"
   ]
  },
  {
   "cell_type": "markdown",
   "id": "05f4b823",
   "metadata": {
    "papermill": {
     "duration": 0.111217,
     "end_time": "2022-03-17T09:43:07.275615",
     "exception": false,
     "start_time": "2022-03-17T09:43:07.164398",
     "status": "completed"
    },
    "tags": []
   },
   "source": [
    "#### Physics"
   ]
  },
  {
   "cell_type": "code",
   "execution_count": 39,
   "id": "935f5d9c",
   "metadata": {
    "execution": {
     "iopub.execute_input": "2022-03-17T09:43:07.501775Z",
     "iopub.status.busy": "2022-03-17T09:43:07.500968Z",
     "iopub.status.idle": "2022-03-17T09:43:07.512364Z",
     "shell.execute_reply": "2022-03-17T09:43:07.512943Z",
     "shell.execute_reply.started": "2022-03-17T09:23:14.180694Z"
    },
    "papermill": {
     "duration": 0.126453,
     "end_time": "2022-03-17T09:43:07.513122",
     "exception": false,
     "start_time": "2022-03-17T09:43:07.386669",
     "status": "completed"
    },
    "tags": []
   },
   "outputs": [
    {
     "data": {
      "text/plain": [
       "'75'"
      ]
     },
     "execution_count": 39,
     "metadata": {},
     "output_type": "execute_result"
    }
   ],
   "source": [
    "soup.find('div', string='Phy').findNext('div').get_text()"
   ]
  },
  {
   "cell_type": "markdown",
   "id": "4f70edb3",
   "metadata": {
    "papermill": {
     "duration": 0.111391,
     "end_time": "2022-03-17T09:43:07.735809",
     "exception": false,
     "start_time": "2022-03-17T09:43:07.624418",
     "status": "completed"
    },
    "tags": []
   },
   "source": [
    "#### Position"
   ]
  },
  {
   "cell_type": "code",
   "execution_count": 40,
   "id": "1034b7f9",
   "metadata": {
    "execution": {
     "iopub.execute_input": "2022-03-17T09:43:07.963529Z",
     "iopub.status.busy": "2022-03-17T09:43:07.962888Z",
     "iopub.status.idle": "2022-03-17T09:43:07.971404Z",
     "shell.execute_reply": "2022-03-17T09:43:07.971994Z",
     "shell.execute_reply.started": "2022-03-17T09:23:14.200488Z"
    },
    "papermill": {
     "duration": 0.12539,
     "end_time": "2022-03-17T09:43:07.972177",
     "exception": false,
     "start_time": "2022-03-17T09:43:07.846787",
     "status": "completed"
    },
    "tags": []
   },
   "outputs": [
    {
     "data": {
      "text/plain": [
       "'CF'"
      ]
     },
     "execution_count": 40,
     "metadata": {},
     "output_type": "execute_result"
    }
   ],
   "source": [
    "soup.find('div', {'class':'card-22-position'}).get_text()"
   ]
  },
  {
   "cell_type": "markdown",
   "id": "3eceda39",
   "metadata": {
    "papermill": {
     "duration": 0.111804,
     "end_time": "2022-03-17T09:43:08.200615",
     "exception": false,
     "start_time": "2022-03-17T09:43:08.088811",
     "status": "completed"
    },
    "tags": []
   },
   "source": [
    "### Put all together and loop through all results of the 1st 09 pages:"
   ]
  },
  {
   "cell_type": "code",
   "execution_count": 41,
   "id": "90159a77",
   "metadata": {
    "execution": {
     "iopub.execute_input": "2022-03-17T09:43:08.428090Z",
     "iopub.status.busy": "2022-03-17T09:43:08.427420Z",
     "iopub.status.idle": "2022-03-17T09:46:01.232213Z",
     "shell.execute_reply": "2022-03-17T09:46:01.231650Z",
     "shell.execute_reply.started": "2022-03-17T09:28:25.738543Z"
    },
    "papermill": {
     "duration": 172.919784,
     "end_time": "2022-03-17T09:46:01.232367",
     "exception": false,
     "start_time": "2022-03-17T09:43:08.312583",
     "status": "completed"
    },
    "tags": []
   },
   "outputs": [],
   "source": [
    "Player = []\n",
    "Skill = []\n",
    "Weakfoot = []\n",
    "Workrates = []\n",
    "Xbox_Price = []\n",
    "PS4_5_Price = []\n",
    "Pc_Price = []\n",
    "Pac = []\n",
    "Acceleration = []\n",
    "Sprint_speed = []\n",
    "Shoot = []\n",
    "Pass = []\n",
    "Dri = []\n",
    "Def = []\n",
    "Phy = []\n",
    "Position = []\n",
    "\n",
    "# url part 1\n",
    "page=1\n",
    "\n",
    "while page < 10:   # We can scrap more pages by changing the number. \n",
    "    # website\n",
    "   \n",
    "    website = f'https://www.futwiz.com/en/fifa22/players?page={page}'\n",
    "    page = page +1\n",
    "    response = requests.get(website)\n",
    "    soup = BeautifulSoup(response.content, 'html.parser')\n",
    "    result_container = soup.find_all('tr', {'class':'table-row'})\n",
    "    url_part_1 = 'https://www.futwiz.com/'\n",
    "    url_part_2 = []\n",
    "    \n",
    "    results_update = result_container\n",
    "    \n",
    "    for item in results_update:\n",
    "\n",
    "        for link in item.find_all('td', {'class':'face'}):\n",
    "            url_part_2.append(link.find('a').get('href'))\n",
    "            \n",
    "    url_joined = []\n",
    "\n",
    "    for link_2 in url_part_2:\n",
    "        url_joined.append(urllib.parse.urljoin(url_part_1,link_2))\n",
    "        \n",
    "    \n",
    "    \n",
    "    for link in url_joined:\n",
    "        response = requests.get(link)\n",
    "    \n",
    "        # create soup object\n",
    "        soup = BeautifulSoup(response.content, 'html.parser')\n",
    "\n",
    "\n",
    "        # Player \n",
    "        try:\n",
    "            Player.append(soup.find('div', {'style':'display:block;'}).get_text())\n",
    "        except:\n",
    "            Player.append('')\n",
    "\n",
    "        # Skill \n",
    "        try:\n",
    "            Skill.append(soup.find('i', {'class':'fa fa-star'}).previous_sibling)\n",
    "        except:\n",
    "            Skill.append('')\n",
    "\n",
    "        # Weakfoot \n",
    "        try:\n",
    "            Weakfoot.append(soup.find('p', string='Skills').findNext('p').get_text())\n",
    "        except:\n",
    "            Weakfoot.append('')\n",
    "\n",
    "        # Workrates \n",
    "        try:\n",
    "            Workrates.append(soup.find('p', string='Weight').findNext('p').get_text())\n",
    "        except:\n",
    "            Workrates.append('')\n",
    "\n",
    "\n",
    "        # Xbox_price \n",
    "        try:\n",
    "            Xbox_Price.append(soup.find('img', {'src':'/assets/img/prices-xb-logo.png?r2'}).findNext('div').get_text())\n",
    "        except:\n",
    "            Xbox_Price.append('')\n",
    "\n",
    "\n",
    "        # Ps4-5 \n",
    "        try:\n",
    "            PS4_5_Price.append(soup.find('img', {'src':'/assets/img/prices-ps-logo.png?r2'}).findNext('div').get_text())\n",
    "        except:\n",
    "            PS4_5_Price.append('')\n",
    "\n",
    "        # PC_price \n",
    "        try:\n",
    "            Pc_Price.append(soup.find('img', {'src':'/assets/img/prices-ps-logo.png?r2'}).findNext('div').get_text())\n",
    "        except:\n",
    "            Pc_Price.append('')\n",
    "\n",
    "        # Pac \n",
    "        try:\n",
    "            Pac.append(soup.find('div', {'class':'highestbarcolour att1bar'}).get_text())\n",
    "        except:\n",
    "            Pac.append('')\n",
    "\n",
    "        # Acceleration \n",
    "        try:\n",
    "            Acceleration.append(soup.find('div', {'class':'individual-stat-bar-label'}).findNext('div').get_text())\n",
    "        except:\n",
    "            Acceleration.append('')\n",
    "\n",
    "\n",
    "        # Sprint\n",
    "        try:\n",
    "            Sprint_speed.append(soup.find('span', {'class':'sprintspeedboost'}).findNext('div').get_text())\n",
    "        except:\n",
    "            Sprint_speed.append('')\n",
    "\n",
    "        # Shoot\n",
    "        try:\n",
    "            Shoot.append(soup.find('div', string='Sho').findNext('div').get_text())\n",
    "        except:\n",
    "            Shoot.append('')\n",
    "\n",
    "\n",
    "        # Pass\n",
    "        try:\n",
    "            Pass.append(soup.find('div', string='Pas').findNext('div').get_text())\n",
    "        except:\n",
    "            Pass.append('')\n",
    "\n",
    "\n",
    "        # Dri\n",
    "        try:\n",
    "            Dri.append(soup.find('div', string='Dri').findNext('div').get_text())\n",
    "        except:\n",
    "            Dri.append('')\n",
    "\n",
    "\n",
    "        # Def\n",
    "        try:\n",
    "            Def.append(soup.find('div', string='Def').findNext('div').get_text())\n",
    "        except:\n",
    "            Def.append('')\n",
    "\n",
    "\n",
    "        # Phy\n",
    "        try:\n",
    "            Phy.append(soup.find('div', string='Phy').findNext('div').get_text())\n",
    "        except:\n",
    "            Phy.append('')\n",
    "\n",
    "        # Position\n",
    "        try:\n",
    "            Position.append(soup.find('div', {'class':'card-22-position'}).get_text())\n",
    "        except:\n",
    "            Position.append('')\n",
    "\n",
    "        \n",
    "        # create a dictionary with results\n",
    "        Output = {'Player' : Player, 'Skill' : Skill, 'Weakfoot':Weakfoot, 'Workrates':Workrates, 'Xbox_Price':Xbox_Price, 'PS4_5_Price':PS4_5_Price, 'Pc_Price':Pc_Price, 'Pac':Pac, 'Acceleration':Acceleration,'Sprint_speed':Sprint_speed,'Shoot':Shoot,'Pass':Pass, 'Dri':Dri, 'Phy':Phy,'Def':Def,'Position':Position }"
   ]
  },
  {
   "cell_type": "markdown",
   "id": "1acf2881",
   "metadata": {
    "papermill": {
     "duration": 0.111551,
     "end_time": "2022-03-17T09:46:01.456538",
     "exception": false,
     "start_time": "2022-03-17T09:46:01.344987",
     "status": "completed"
    },
    "tags": []
   },
   "source": [
    "#### Let's put the result in a data frame"
   ]
  },
  {
   "cell_type": "code",
   "execution_count": 42,
   "id": "626d2620",
   "metadata": {
    "execution": {
     "iopub.execute_input": "2022-03-17T09:46:01.683240Z",
     "iopub.status.busy": "2022-03-17T09:46:01.682623Z",
     "iopub.status.idle": "2022-03-17T09:46:01.714990Z",
     "shell.execute_reply": "2022-03-17T09:46:01.715586Z",
     "shell.execute_reply.started": "2022-03-17T09:31:33.472073Z"
    },
    "papermill": {
     "duration": 0.146944,
     "end_time": "2022-03-17T09:46:01.715751",
     "exception": false,
     "start_time": "2022-03-17T09:46:01.568807",
     "status": "completed"
    },
    "tags": []
   },
   "outputs": [
    {
     "data": {
      "text/html": [
       "<div>\n",
       "<style scoped>\n",
       "    .dataframe tbody tr th:only-of-type {\n",
       "        vertical-align: middle;\n",
       "    }\n",
       "\n",
       "    .dataframe tbody tr th {\n",
       "        vertical-align: top;\n",
       "    }\n",
       "\n",
       "    .dataframe thead th {\n",
       "        text-align: right;\n",
       "    }\n",
       "</style>\n",
       "<table border=\"1\" class=\"dataframe\">\n",
       "  <thead>\n",
       "    <tr style=\"text-align: right;\">\n",
       "      <th></th>\n",
       "      <th>Player</th>\n",
       "      <th>Skill</th>\n",
       "      <th>Weakfoot</th>\n",
       "      <th>Workrates</th>\n",
       "      <th>Xbox_Price</th>\n",
       "      <th>PS4_5_Price</th>\n",
       "      <th>Pc_Price</th>\n",
       "      <th>Pac</th>\n",
       "      <th>Acceleration</th>\n",
       "      <th>Sprint_speed</th>\n",
       "      <th>Shoot</th>\n",
       "      <th>Pass</th>\n",
       "      <th>Dri</th>\n",
       "      <th>Phy</th>\n",
       "      <th>Def</th>\n",
       "      <th>Position</th>\n",
       "    </tr>\n",
       "  </thead>\n",
       "  <tbody>\n",
       "    <tr>\n",
       "      <th>0</th>\n",
       "      <td>Pele</td>\n",
       "      <td>5</td>\n",
       "      <td>4</td>\n",
       "      <td>HIGH/MED</td>\n",
       "      <td>\\n2,800,000\\n</td>\n",
       "      <td>\\n3,469,000\\n</td>\n",
       "      <td>\\n3,469,000\\n</td>\n",
       "      <td>96</td>\n",
       "      <td>95</td>\n",
       "      <td>96</td>\n",
       "      <td>93</td>\n",
       "      <td>90</td>\n",
       "      <td>95</td>\n",
       "      <td>75</td>\n",
       "      <td>56</td>\n",
       "      <td>CF</td>\n",
       "    </tr>\n",
       "    <tr>\n",
       "      <th>1</th>\n",
       "      <td>Diego Maradona</td>\n",
       "      <td>5</td>\n",
       "      <td>3</td>\n",
       "      <td>HIGH/MED</td>\n",
       "      <td>\\n1,345,000\\n</td>\n",
       "      <td>\\n1,463,000\\n</td>\n",
       "      <td>\\n1,463,000\\n</td>\n",
       "      <td>88</td>\n",
       "      <td>91</td>\n",
       "      <td>85</td>\n",
       "      <td>91</td>\n",
       "      <td>90</td>\n",
       "      <td>95</td>\n",
       "      <td>75</td>\n",
       "      <td>42</td>\n",
       "      <td>CAM</td>\n",
       "    </tr>\n",
       "    <tr>\n",
       "      <th>2</th>\n",
       "      <td>Lionel Messi</td>\n",
       "      <td>4</td>\n",
       "      <td>4</td>\n",
       "      <td>MED/LOW</td>\n",
       "      <td>\\n1,198,000\\n</td>\n",
       "      <td>\\n1,410,000\\n</td>\n",
       "      <td>\\n1,410,000\\n</td>\n",
       "      <td>88</td>\n",
       "      <td>94</td>\n",
       "      <td>83</td>\n",
       "      <td>94</td>\n",
       "      <td>93</td>\n",
       "      <td>97</td>\n",
       "      <td>70</td>\n",
       "      <td>36</td>\n",
       "      <td>RW</td>\n",
       "    </tr>\n",
       "    <tr>\n",
       "      <th>3</th>\n",
       "      <td>Xavi</td>\n",
       "      <td>4</td>\n",
       "      <td>4</td>\n",
       "      <td>HIGH/HIGH</td>\n",
       "      <td>\\n1,450,000\\n</td>\n",
       "      <td>\\n1,360,000\\n</td>\n",
       "      <td>\\n1,360,000\\n</td>\n",
       "      <td>84</td>\n",
       "      <td>85</td>\n",
       "      <td>83</td>\n",
       "      <td>84</td>\n",
       "      <td>96</td>\n",
       "      <td>95</td>\n",
       "      <td>73</td>\n",
       "      <td>73</td>\n",
       "      <td>CM</td>\n",
       "    </tr>\n",
       "    <tr>\n",
       "      <th>4</th>\n",
       "      <td>Puyol</td>\n",
       "      <td>2</td>\n",
       "      <td>3</td>\n",
       "      <td>MED/HIGH</td>\n",
       "      <td>\\n932,000\\n</td>\n",
       "      <td>\\n995,000\\n</td>\n",
       "      <td>\\n995,000\\n</td>\n",
       "      <td></td>\n",
       "      <td>77</td>\n",
       "      <td>80</td>\n",
       "      <td>49</td>\n",
       "      <td>69</td>\n",
       "      <td>60</td>\n",
       "      <td>92</td>\n",
       "      <td>96</td>\n",
       "      <td>CB</td>\n",
       "    </tr>\n",
       "    <tr>\n",
       "      <th>...</th>\n",
       "      <td>...</td>\n",
       "      <td>...</td>\n",
       "      <td>...</td>\n",
       "      <td>...</td>\n",
       "      <td>...</td>\n",
       "      <td>...</td>\n",
       "      <td>...</td>\n",
       "      <td>...</td>\n",
       "      <td>...</td>\n",
       "      <td>...</td>\n",
       "      <td>...</td>\n",
       "      <td>...</td>\n",
       "      <td>...</td>\n",
       "      <td>...</td>\n",
       "      <td>...</td>\n",
       "      <td>...</td>\n",
       "    </tr>\n",
       "    <tr>\n",
       "      <th>220</th>\n",
       "      <td>Michael Ballack</td>\n",
       "      <td>4</td>\n",
       "      <td>4</td>\n",
       "      <td>MED/HIGH</td>\n",
       "      <td>\\n399,000\\n</td>\n",
       "      <td>\\n365,000\\n</td>\n",
       "      <td>\\n365,000\\n</td>\n",
       "      <td>81</td>\n",
       "      <td>80</td>\n",
       "      <td>81</td>\n",
       "      <td>90</td>\n",
       "      <td>88</td>\n",
       "      <td>83</td>\n",
       "      <td>86</td>\n",
       "      <td>81</td>\n",
       "      <td>CM</td>\n",
       "    </tr>\n",
       "    <tr>\n",
       "      <th>221</th>\n",
       "      <td>Kaka</td>\n",
       "      <td>5</td>\n",
       "      <td>4</td>\n",
       "      <td>HIGH/MED</td>\n",
       "      <td>\\n640,000\\n</td>\n",
       "      <td>\\n715,000\\n</td>\n",
       "      <td>\\n715,000\\n</td>\n",
       "      <td>91</td>\n",
       "      <td>92</td>\n",
       "      <td>90</td>\n",
       "      <td>86</td>\n",
       "      <td>88</td>\n",
       "      <td>92</td>\n",
       "      <td>73</td>\n",
       "      <td>44</td>\n",
       "      <td>CAM</td>\n",
       "    </tr>\n",
       "    <tr>\n",
       "      <th>222</th>\n",
       "      <td>Fernando Torres</td>\n",
       "      <td>4</td>\n",
       "      <td>4</td>\n",
       "      <td>HIGH/MED</td>\n",
       "      <td>\\n517,000\\n</td>\n",
       "      <td>\\n493,000\\n</td>\n",
       "      <td>\\n493,000\\n</td>\n",
       "      <td>93</td>\n",
       "      <td>95</td>\n",
       "      <td>91</td>\n",
       "      <td>90</td>\n",
       "      <td>79</td>\n",
       "      <td>88</td>\n",
       "      <td>78</td>\n",
       "      <td>45</td>\n",
       "      <td>ST</td>\n",
       "    </tr>\n",
       "    <tr>\n",
       "      <th>223</th>\n",
       "      <td>Miroslav Klose</td>\n",
       "      <td>3</td>\n",
       "      <td>4</td>\n",
       "      <td>HIGH/MED</td>\n",
       "      <td>\\n111,000\\n</td>\n",
       "      <td>\\n99,000\\n</td>\n",
       "      <td>\\n99,000\\n</td>\n",
       "      <td>88</td>\n",
       "      <td>92</td>\n",
       "      <td>84</td>\n",
       "      <td>88</td>\n",
       "      <td>76</td>\n",
       "      <td>82</td>\n",
       "      <td>81</td>\n",
       "      <td>41</td>\n",
       "      <td>ST</td>\n",
       "    </tr>\n",
       "    <tr>\n",
       "      <th>224</th>\n",
       "      <td>Juan Roman Riquelme</td>\n",
       "      <td>5</td>\n",
       "      <td>4</td>\n",
       "      <td>MED/LOW</td>\n",
       "      <td>\\n117,000\\n</td>\n",
       "      <td>\\n103,000\\n</td>\n",
       "      <td>\\n103,000\\n</td>\n",
       "      <td></td>\n",
       "      <td>67</td>\n",
       "      <td>73</td>\n",
       "      <td>87</td>\n",
       "      <td>93</td>\n",
       "      <td>93</td>\n",
       "      <td>69</td>\n",
       "      <td>32</td>\n",
       "      <td>CAM</td>\n",
       "    </tr>\n",
       "  </tbody>\n",
       "</table>\n",
       "<p>225 rows × 16 columns</p>\n",
       "</div>"
      ],
      "text/plain": [
       "                  Player Skill Weakfoot  Workrates     Xbox_Price  \\\n",
       "0                   Pele    5        4    HIGH/MED  \\n2,800,000\\n   \n",
       "1         Diego Maradona    5        3    HIGH/MED  \\n1,345,000\\n   \n",
       "2           Lionel Messi    4        4     MED/LOW  \\n1,198,000\\n   \n",
       "3                   Xavi    4        4   HIGH/HIGH  \\n1,450,000\\n   \n",
       "4                  Puyol    2        3    MED/HIGH    \\n932,000\\n   \n",
       "..                   ...   ...      ...        ...            ...   \n",
       "220      Michael Ballack    4        4    MED/HIGH    \\n399,000\\n   \n",
       "221                 Kaka    5        4    HIGH/MED    \\n640,000\\n   \n",
       "222      Fernando Torres    4        4    HIGH/MED    \\n517,000\\n   \n",
       "223       Miroslav Klose    3        4    HIGH/MED    \\n111,000\\n   \n",
       "224  Juan Roman Riquelme    5        4     MED/LOW    \\n117,000\\n   \n",
       "\n",
       "       PS4_5_Price       Pc_Price Pac Acceleration Sprint_speed Shoot Pass  \\\n",
       "0    \\n3,469,000\\n  \\n3,469,000\\n  96           95           96    93   90   \n",
       "1    \\n1,463,000\\n  \\n1,463,000\\n  88           91           85    91   90   \n",
       "2    \\n1,410,000\\n  \\n1,410,000\\n  88           94           83    94   93   \n",
       "3    \\n1,360,000\\n  \\n1,360,000\\n  84           85           83    84   96   \n",
       "4      \\n995,000\\n    \\n995,000\\n               77           80    49   69   \n",
       "..             ...            ...  ..          ...          ...   ...  ...   \n",
       "220    \\n365,000\\n    \\n365,000\\n  81           80           81    90   88   \n",
       "221    \\n715,000\\n    \\n715,000\\n  91           92           90    86   88   \n",
       "222    \\n493,000\\n    \\n493,000\\n  93           95           91    90   79   \n",
       "223     \\n99,000\\n     \\n99,000\\n  88           92           84    88   76   \n",
       "224    \\n103,000\\n    \\n103,000\\n               67           73    87   93   \n",
       "\n",
       "    Dri Phy Def Position  \n",
       "0    95  75  56       CF  \n",
       "1    95  75  42      CAM  \n",
       "2    97  70  36       RW  \n",
       "3    95  73  73       CM  \n",
       "4    60  92  96       CB  \n",
       "..   ..  ..  ..      ...  \n",
       "220  83  86  81       CM  \n",
       "221  92  73  44      CAM  \n",
       "222  88  78  45       ST  \n",
       "223  82  81  41       ST  \n",
       "224  93  69  32      CAM  \n",
       "\n",
       "[225 rows x 16 columns]"
      ]
     },
     "execution_count": 42,
     "metadata": {},
     "output_type": "execute_result"
    }
   ],
   "source": [
    "df = pd.DataFrame(Output)\n",
    "df"
   ]
  },
  {
   "cell_type": "markdown",
   "id": "9a40da0d",
   "metadata": {
    "papermill": {
     "duration": 0.114386,
     "end_time": "2022-03-17T09:46:01.942599",
     "exception": false,
     "start_time": "2022-03-17T09:46:01.828213",
     "status": "completed"
    },
    "tags": []
   },
   "source": [
    "#### Let's store the data in csv file:"
   ]
  },
  {
   "cell_type": "code",
   "execution_count": 43,
   "id": "74e69b9a",
   "metadata": {
    "execution": {
     "iopub.execute_input": "2022-03-17T09:46:02.174988Z",
     "iopub.status.busy": "2022-03-17T09:46:02.174364Z",
     "iopub.status.idle": "2022-03-17T09:46:02.183516Z",
     "shell.execute_reply": "2022-03-17T09:46:02.184009Z",
     "shell.execute_reply.started": "2022-03-17T09:31:36.684457Z"
    },
    "papermill": {
     "duration": 0.127937,
     "end_time": "2022-03-17T09:46:02.184191",
     "exception": false,
     "start_time": "2022-03-17T09:46:02.056254",
     "status": "completed"
    },
    "tags": []
   },
   "outputs": [],
   "source": [
    "df.to_csv('Fifa_22_Output')"
   ]
  },
  {
   "cell_type": "markdown",
   "id": "d6aaa60d",
   "metadata": {
    "papermill": {
     "duration": 0.111873,
     "end_time": "2022-03-17T09:46:02.408695",
     "exception": false,
     "start_time": "2022-03-17T09:46:02.296822",
     "status": "completed"
    },
    "tags": []
   },
   "source": [
    "# Exploring & Cleaning the Data"
   ]
  },
  {
   "cell_type": "code",
   "execution_count": 44,
   "id": "409d6077",
   "metadata": {
    "execution": {
     "iopub.execute_input": "2022-03-17T09:46:02.637412Z",
     "iopub.status.busy": "2022-03-17T09:46:02.636784Z",
     "iopub.status.idle": "2022-03-17T09:46:02.645165Z",
     "shell.execute_reply": "2022-03-17T09:46:02.645677Z",
     "shell.execute_reply.started": "2022-03-17T09:31:39.993912Z"
    },
    "papermill": {
     "duration": 0.124761,
     "end_time": "2022-03-17T09:46:02.645843",
     "exception": false,
     "start_time": "2022-03-17T09:46:02.521082",
     "status": "completed"
    },
    "tags": []
   },
   "outputs": [],
   "source": [
    "df = pd.read_csv('Fifa_22_Output')"
   ]
  },
  {
   "cell_type": "code",
   "execution_count": 45,
   "id": "192790d5",
   "metadata": {
    "execution": {
     "iopub.execute_input": "2022-03-17T09:46:02.876370Z",
     "iopub.status.busy": "2022-03-17T09:46:02.875553Z",
     "iopub.status.idle": "2022-03-17T09:46:02.895000Z",
     "shell.execute_reply": "2022-03-17T09:46:02.895592Z",
     "shell.execute_reply.started": "2022-03-17T09:31:41.145978Z"
    },
    "papermill": {
     "duration": 0.136102,
     "end_time": "2022-03-17T09:46:02.895755",
     "exception": false,
     "start_time": "2022-03-17T09:46:02.759653",
     "status": "completed"
    },
    "tags": []
   },
   "outputs": [
    {
     "data": {
      "text/html": [
       "<div>\n",
       "<style scoped>\n",
       "    .dataframe tbody tr th:only-of-type {\n",
       "        vertical-align: middle;\n",
       "    }\n",
       "\n",
       "    .dataframe tbody tr th {\n",
       "        vertical-align: top;\n",
       "    }\n",
       "\n",
       "    .dataframe thead th {\n",
       "        text-align: right;\n",
       "    }\n",
       "</style>\n",
       "<table border=\"1\" class=\"dataframe\">\n",
       "  <thead>\n",
       "    <tr style=\"text-align: right;\">\n",
       "      <th></th>\n",
       "      <th>Unnamed: 0</th>\n",
       "      <th>Player</th>\n",
       "      <th>Skill</th>\n",
       "      <th>Weakfoot</th>\n",
       "      <th>Workrates</th>\n",
       "      <th>Xbox_Price</th>\n",
       "      <th>PS4_5_Price</th>\n",
       "      <th>Pc_Price</th>\n",
       "      <th>Pac</th>\n",
       "      <th>Acceleration</th>\n",
       "      <th>Sprint_speed</th>\n",
       "      <th>Shoot</th>\n",
       "      <th>Pass</th>\n",
       "      <th>Dri</th>\n",
       "      <th>Phy</th>\n",
       "      <th>Def</th>\n",
       "      <th>Position</th>\n",
       "    </tr>\n",
       "  </thead>\n",
       "  <tbody>\n",
       "    <tr>\n",
       "      <th>0</th>\n",
       "      <td>0</td>\n",
       "      <td>Pele</td>\n",
       "      <td>5</td>\n",
       "      <td>4</td>\n",
       "      <td>HIGH/MED</td>\n",
       "      <td>\\n2,800,000\\n</td>\n",
       "      <td>\\n3,469,000\\n</td>\n",
       "      <td>\\n3,469,000\\n</td>\n",
       "      <td>96.0</td>\n",
       "      <td>95</td>\n",
       "      <td>96</td>\n",
       "      <td>93.0</td>\n",
       "      <td>90.0</td>\n",
       "      <td>95.0</td>\n",
       "      <td>75.0</td>\n",
       "      <td>56.0</td>\n",
       "      <td>CF</td>\n",
       "    </tr>\n",
       "    <tr>\n",
       "      <th>1</th>\n",
       "      <td>1</td>\n",
       "      <td>Diego Maradona</td>\n",
       "      <td>5</td>\n",
       "      <td>3</td>\n",
       "      <td>HIGH/MED</td>\n",
       "      <td>\\n1,345,000\\n</td>\n",
       "      <td>\\n1,463,000\\n</td>\n",
       "      <td>\\n1,463,000\\n</td>\n",
       "      <td>88.0</td>\n",
       "      <td>91</td>\n",
       "      <td>85</td>\n",
       "      <td>91.0</td>\n",
       "      <td>90.0</td>\n",
       "      <td>95.0</td>\n",
       "      <td>75.0</td>\n",
       "      <td>42.0</td>\n",
       "      <td>CAM</td>\n",
       "    </tr>\n",
       "    <tr>\n",
       "      <th>2</th>\n",
       "      <td>2</td>\n",
       "      <td>Lionel Messi</td>\n",
       "      <td>4</td>\n",
       "      <td>4</td>\n",
       "      <td>MED/LOW</td>\n",
       "      <td>\\n1,198,000\\n</td>\n",
       "      <td>\\n1,410,000\\n</td>\n",
       "      <td>\\n1,410,000\\n</td>\n",
       "      <td>88.0</td>\n",
       "      <td>94</td>\n",
       "      <td>83</td>\n",
       "      <td>94.0</td>\n",
       "      <td>93.0</td>\n",
       "      <td>97.0</td>\n",
       "      <td>70.0</td>\n",
       "      <td>36.0</td>\n",
       "      <td>RW</td>\n",
       "    </tr>\n",
       "    <tr>\n",
       "      <th>3</th>\n",
       "      <td>3</td>\n",
       "      <td>Xavi</td>\n",
       "      <td>4</td>\n",
       "      <td>4</td>\n",
       "      <td>HIGH/HIGH</td>\n",
       "      <td>\\n1,450,000\\n</td>\n",
       "      <td>\\n1,360,000\\n</td>\n",
       "      <td>\\n1,360,000\\n</td>\n",
       "      <td>84.0</td>\n",
       "      <td>85</td>\n",
       "      <td>83</td>\n",
       "      <td>84.0</td>\n",
       "      <td>96.0</td>\n",
       "      <td>95.0</td>\n",
       "      <td>73.0</td>\n",
       "      <td>73.0</td>\n",
       "      <td>CM</td>\n",
       "    </tr>\n",
       "    <tr>\n",
       "      <th>4</th>\n",
       "      <td>4</td>\n",
       "      <td>Puyol</td>\n",
       "      <td>2</td>\n",
       "      <td>3</td>\n",
       "      <td>MED/HIGH</td>\n",
       "      <td>\\n932,000\\n</td>\n",
       "      <td>\\n995,000\\n</td>\n",
       "      <td>\\n995,000\\n</td>\n",
       "      <td>NaN</td>\n",
       "      <td>77</td>\n",
       "      <td>80</td>\n",
       "      <td>49.0</td>\n",
       "      <td>69.0</td>\n",
       "      <td>60.0</td>\n",
       "      <td>92.0</td>\n",
       "      <td>96.0</td>\n",
       "      <td>CB</td>\n",
       "    </tr>\n",
       "  </tbody>\n",
       "</table>\n",
       "</div>"
      ],
      "text/plain": [
       "   Unnamed: 0          Player  Skill  Weakfoot  Workrates     Xbox_Price  \\\n",
       "0           0            Pele      5         4   HIGH/MED  \\n2,800,000\\n   \n",
       "1           1  Diego Maradona      5         3   HIGH/MED  \\n1,345,000\\n   \n",
       "2           2    Lionel Messi      4         4    MED/LOW  \\n1,198,000\\n   \n",
       "3           3            Xavi      4         4  HIGH/HIGH  \\n1,450,000\\n   \n",
       "4           4           Puyol      2         3   MED/HIGH    \\n932,000\\n   \n",
       "\n",
       "     PS4_5_Price       Pc_Price   Pac  Acceleration  Sprint_speed  Shoot  \\\n",
       "0  \\n3,469,000\\n  \\n3,469,000\\n  96.0            95            96   93.0   \n",
       "1  \\n1,463,000\\n  \\n1,463,000\\n  88.0            91            85   91.0   \n",
       "2  \\n1,410,000\\n  \\n1,410,000\\n  88.0            94            83   94.0   \n",
       "3  \\n1,360,000\\n  \\n1,360,000\\n  84.0            85            83   84.0   \n",
       "4    \\n995,000\\n    \\n995,000\\n   NaN            77            80   49.0   \n",
       "\n",
       "   Pass   Dri   Phy   Def Position  \n",
       "0  90.0  95.0  75.0  56.0       CF  \n",
       "1  90.0  95.0  75.0  42.0      CAM  \n",
       "2  93.0  97.0  70.0  36.0       RW  \n",
       "3  96.0  95.0  73.0  73.0       CM  \n",
       "4  69.0  60.0  92.0  96.0       CB  "
      ]
     },
     "execution_count": 45,
     "metadata": {},
     "output_type": "execute_result"
    }
   ],
   "source": [
    "df.head(5)"
   ]
  },
  {
   "cell_type": "code",
   "execution_count": 46,
   "id": "7acf336f",
   "metadata": {
    "execution": {
     "iopub.execute_input": "2022-03-17T09:46:03.125689Z",
     "iopub.status.busy": "2022-03-17T09:46:03.125066Z",
     "iopub.status.idle": "2022-03-17T09:46:03.151201Z",
     "shell.execute_reply": "2022-03-17T09:46:03.150536Z",
     "shell.execute_reply.started": "2022-03-17T09:31:43.359012Z"
    },
    "papermill": {
     "duration": 0.142315,
     "end_time": "2022-03-17T09:46:03.151343",
     "exception": false,
     "start_time": "2022-03-17T09:46:03.009028",
     "status": "completed"
    },
    "tags": []
   },
   "outputs": [
    {
     "name": "stdout",
     "output_type": "stream",
     "text": [
      "<class 'pandas.core.frame.DataFrame'>\n",
      "RangeIndex: 225 entries, 0 to 224\n",
      "Data columns (total 17 columns):\n",
      " #   Column        Non-Null Count  Dtype  \n",
      "---  ------        --------------  -----  \n",
      " 0   Unnamed: 0    225 non-null    int64  \n",
      " 1   Player        225 non-null    object \n",
      " 2   Skill         225 non-null    int64  \n",
      " 3   Weakfoot      225 non-null    int64  \n",
      " 4   Workrates     225 non-null    object \n",
      " 5   Xbox_Price    225 non-null    object \n",
      " 6   PS4_5_Price   225 non-null    object \n",
      " 7   Pc_Price      225 non-null    object \n",
      " 8   Pac           194 non-null    float64\n",
      " 9   Acceleration  225 non-null    int64  \n",
      " 10  Sprint_speed  225 non-null    int64  \n",
      " 11  Shoot         212 non-null    float64\n",
      " 12  Pass          212 non-null    float64\n",
      " 13  Dri           212 non-null    float64\n",
      " 14  Phy           212 non-null    float64\n",
      " 15  Def           212 non-null    float64\n",
      " 16  Position      225 non-null    object \n",
      "dtypes: float64(6), int64(5), object(6)\n",
      "memory usage: 30.0+ KB\n"
     ]
    }
   ],
   "source": [
    "df.info()"
   ]
  },
  {
   "cell_type": "code",
   "execution_count": 47,
   "id": "ab6261b4",
   "metadata": {
    "execution": {
     "iopub.execute_input": "2022-03-17T09:46:03.383329Z",
     "iopub.status.busy": "2022-03-17T09:46:03.382635Z",
     "iopub.status.idle": "2022-03-17T09:46:03.426030Z",
     "shell.execute_reply": "2022-03-17T09:46:03.426564Z",
     "shell.execute_reply.started": "2022-03-17T09:31:45.753629Z"
    },
    "papermill": {
     "duration": 0.160268,
     "end_time": "2022-03-17T09:46:03.426731",
     "exception": false,
     "start_time": "2022-03-17T09:46:03.266463",
     "status": "completed"
    },
    "tags": []
   },
   "outputs": [
    {
     "data": {
      "text/html": [
       "<div>\n",
       "<style scoped>\n",
       "    .dataframe tbody tr th:only-of-type {\n",
       "        vertical-align: middle;\n",
       "    }\n",
       "\n",
       "    .dataframe tbody tr th {\n",
       "        vertical-align: top;\n",
       "    }\n",
       "\n",
       "    .dataframe thead th {\n",
       "        text-align: right;\n",
       "    }\n",
       "</style>\n",
       "<table border=\"1\" class=\"dataframe\">\n",
       "  <thead>\n",
       "    <tr style=\"text-align: right;\">\n",
       "      <th></th>\n",
       "      <th>count</th>\n",
       "      <th>mean</th>\n",
       "      <th>std</th>\n",
       "      <th>min</th>\n",
       "      <th>25%</th>\n",
       "      <th>50%</th>\n",
       "      <th>75%</th>\n",
       "      <th>max</th>\n",
       "    </tr>\n",
       "  </thead>\n",
       "  <tbody>\n",
       "    <tr>\n",
       "      <th>Unnamed: 0</th>\n",
       "      <td>225.0</td>\n",
       "      <td>112.000000</td>\n",
       "      <td>65.096083</td>\n",
       "      <td>0.0</td>\n",
       "      <td>56.00</td>\n",
       "      <td>112.0</td>\n",
       "      <td>168.0</td>\n",
       "      <td>224.0</td>\n",
       "    </tr>\n",
       "    <tr>\n",
       "      <th>Skill</th>\n",
       "      <td>225.0</td>\n",
       "      <td>3.511111</td>\n",
       "      <td>1.086077</td>\n",
       "      <td>1.0</td>\n",
       "      <td>3.00</td>\n",
       "      <td>4.0</td>\n",
       "      <td>4.0</td>\n",
       "      <td>5.0</td>\n",
       "    </tr>\n",
       "    <tr>\n",
       "      <th>Weakfoot</th>\n",
       "      <td>225.0</td>\n",
       "      <td>3.893333</td>\n",
       "      <td>0.705337</td>\n",
       "      <td>2.0</td>\n",
       "      <td>3.00</td>\n",
       "      <td>4.0</td>\n",
       "      <td>4.0</td>\n",
       "      <td>5.0</td>\n",
       "    </tr>\n",
       "    <tr>\n",
       "      <th>Pac</th>\n",
       "      <td>194.0</td>\n",
       "      <td>88.871134</td>\n",
       "      <td>4.309153</td>\n",
       "      <td>81.0</td>\n",
       "      <td>86.00</td>\n",
       "      <td>89.0</td>\n",
       "      <td>92.0</td>\n",
       "      <td>99.0</td>\n",
       "    </tr>\n",
       "    <tr>\n",
       "      <th>Acceleration</th>\n",
       "      <td>225.0</td>\n",
       "      <td>87.466667</td>\n",
       "      <td>6.836091</td>\n",
       "      <td>64.0</td>\n",
       "      <td>84.00</td>\n",
       "      <td>88.0</td>\n",
       "      <td>93.0</td>\n",
       "      <td>99.0</td>\n",
       "    </tr>\n",
       "    <tr>\n",
       "      <th>Sprint_speed</th>\n",
       "      <td>225.0</td>\n",
       "      <td>84.720000</td>\n",
       "      <td>10.106875</td>\n",
       "      <td>39.0</td>\n",
       "      <td>82.00</td>\n",
       "      <td>87.0</td>\n",
       "      <td>91.0</td>\n",
       "      <td>99.0</td>\n",
       "    </tr>\n",
       "    <tr>\n",
       "      <th>Shoot</th>\n",
       "      <td>212.0</td>\n",
       "      <td>84.882075</td>\n",
       "      <td>12.985236</td>\n",
       "      <td>34.0</td>\n",
       "      <td>84.00</td>\n",
       "      <td>90.0</td>\n",
       "      <td>93.0</td>\n",
       "      <td>98.0</td>\n",
       "    </tr>\n",
       "    <tr>\n",
       "      <th>Pass</th>\n",
       "      <td>212.0</td>\n",
       "      <td>84.627358</td>\n",
       "      <td>7.651026</td>\n",
       "      <td>57.0</td>\n",
       "      <td>80.00</td>\n",
       "      <td>86.0</td>\n",
       "      <td>90.0</td>\n",
       "      <td>97.0</td>\n",
       "    </tr>\n",
       "    <tr>\n",
       "      <th>Dri</th>\n",
       "      <td>212.0</td>\n",
       "      <td>88.009434</td>\n",
       "      <td>7.200573</td>\n",
       "      <td>58.0</td>\n",
       "      <td>86.00</td>\n",
       "      <td>90.0</td>\n",
       "      <td>93.0</td>\n",
       "      <td>98.0</td>\n",
       "    </tr>\n",
       "    <tr>\n",
       "      <th>Phy</th>\n",
       "      <td>212.0</td>\n",
       "      <td>80.537736</td>\n",
       "      <td>7.656332</td>\n",
       "      <td>61.0</td>\n",
       "      <td>76.00</td>\n",
       "      <td>81.5</td>\n",
       "      <td>86.0</td>\n",
       "      <td>94.0</td>\n",
       "    </tr>\n",
       "    <tr>\n",
       "      <th>Def</th>\n",
       "      <td>212.0</td>\n",
       "      <td>60.570755</td>\n",
       "      <td>21.668325</td>\n",
       "      <td>32.0</td>\n",
       "      <td>42.75</td>\n",
       "      <td>50.0</td>\n",
       "      <td>86.0</td>\n",
       "      <td>97.0</td>\n",
       "    </tr>\n",
       "  </tbody>\n",
       "</table>\n",
       "</div>"
      ],
      "text/plain": [
       "              count        mean        std   min    25%    50%    75%    max\n",
       "Unnamed: 0    225.0  112.000000  65.096083   0.0  56.00  112.0  168.0  224.0\n",
       "Skill         225.0    3.511111   1.086077   1.0   3.00    4.0    4.0    5.0\n",
       "Weakfoot      225.0    3.893333   0.705337   2.0   3.00    4.0    4.0    5.0\n",
       "Pac           194.0   88.871134   4.309153  81.0  86.00   89.0   92.0   99.0\n",
       "Acceleration  225.0   87.466667   6.836091  64.0  84.00   88.0   93.0   99.0\n",
       "Sprint_speed  225.0   84.720000  10.106875  39.0  82.00   87.0   91.0   99.0\n",
       "Shoot         212.0   84.882075  12.985236  34.0  84.00   90.0   93.0   98.0\n",
       "Pass          212.0   84.627358   7.651026  57.0  80.00   86.0   90.0   97.0\n",
       "Dri           212.0   88.009434   7.200573  58.0  86.00   90.0   93.0   98.0\n",
       "Phy           212.0   80.537736   7.656332  61.0  76.00   81.5   86.0   94.0\n",
       "Def           212.0   60.570755  21.668325  32.0  42.75   50.0   86.0   97.0"
      ]
     },
     "execution_count": 47,
     "metadata": {},
     "output_type": "execute_result"
    }
   ],
   "source": [
    "df.describe().transpose()"
   ]
  },
  {
   "cell_type": "code",
   "execution_count": 48,
   "id": "7513f183",
   "metadata": {
    "execution": {
     "iopub.execute_input": "2022-03-17T09:46:03.662401Z",
     "iopub.status.busy": "2022-03-17T09:46:03.661762Z",
     "iopub.status.idle": "2022-03-17T09:46:03.666622Z",
     "shell.execute_reply": "2022-03-17T09:46:03.667217Z",
     "shell.execute_reply.started": "2022-03-17T09:31:59.62011Z"
    },
    "papermill": {
     "duration": 0.125902,
     "end_time": "2022-03-17T09:46:03.667379",
     "exception": false,
     "start_time": "2022-03-17T09:46:03.541477",
     "status": "completed"
    },
    "tags": []
   },
   "outputs": [
    {
     "data": {
      "text/plain": [
       "Unnamed: 0       0\n",
       "Player           0\n",
       "Skill            0\n",
       "Weakfoot         0\n",
       "Workrates        0\n",
       "Xbox_Price       0\n",
       "PS4_5_Price      0\n",
       "Pc_Price         0\n",
       "Pac             31\n",
       "Acceleration     0\n",
       "Sprint_speed     0\n",
       "Shoot           13\n",
       "Pass            13\n",
       "Dri             13\n",
       "Phy             13\n",
       "Def             13\n",
       "Position         0\n",
       "dtype: int64"
      ]
     },
     "execution_count": 48,
     "metadata": {},
     "output_type": "execute_result"
    }
   ],
   "source": [
    "df.isnull().sum()"
   ]
  },
  {
   "cell_type": "code",
   "execution_count": 49,
   "id": "67d9b5ce",
   "metadata": {
    "execution": {
     "iopub.execute_input": "2022-03-17T09:46:03.904172Z",
     "iopub.status.busy": "2022-03-17T09:46:03.903535Z",
     "iopub.status.idle": "2022-03-17T09:46:03.905977Z",
     "shell.execute_reply": "2022-03-17T09:46:03.906495Z",
     "shell.execute_reply.started": "2022-03-17T09:32:01.77977Z"
    },
    "papermill": {
     "duration": 0.124434,
     "end_time": "2022-03-17T09:46:03.906655",
     "exception": false,
     "start_time": "2022-03-17T09:46:03.782221",
     "status": "completed"
    },
    "tags": []
   },
   "outputs": [
    {
     "data": {
      "text/plain": [
       "Unnamed: 0        int64\n",
       "Player           object\n",
       "Skill             int64\n",
       "Weakfoot          int64\n",
       "Workrates        object\n",
       "Xbox_Price       object\n",
       "PS4_5_Price      object\n",
       "Pc_Price         object\n",
       "Pac             float64\n",
       "Acceleration      int64\n",
       "Sprint_speed      int64\n",
       "Shoot           float64\n",
       "Pass            float64\n",
       "Dri             float64\n",
       "Phy             float64\n",
       "Def             float64\n",
       "Position         object\n",
       "dtype: object"
      ]
     },
     "execution_count": 49,
     "metadata": {},
     "output_type": "execute_result"
    }
   ],
   "source": [
    "df.dtypes"
   ]
  },
  {
   "cell_type": "markdown",
   "id": "54cc9560",
   "metadata": {
    "papermill": {
     "duration": 0.116891,
     "end_time": "2022-03-17T09:46:04.139352",
     "exception": false,
     "start_time": "2022-03-17T09:46:04.022461",
     "status": "completed"
    },
    "tags": []
   },
   "source": [
    "### Let's clean and change the data type of some columns:"
   ]
  },
  {
   "cell_type": "markdown",
   "id": "89d10888",
   "metadata": {
    "papermill": {
     "duration": 0.115515,
     "end_time": "2022-03-17T09:46:04.437701",
     "exception": false,
     "start_time": "2022-03-17T09:46:04.322186",
     "status": "completed"
    },
    "tags": []
   },
   "source": [
    "#### Cleaning"
   ]
  },
  {
   "cell_type": "code",
   "execution_count": 50,
   "id": "9133f2d7",
   "metadata": {
    "execution": {
     "iopub.execute_input": "2022-03-17T09:46:04.673869Z",
     "iopub.status.busy": "2022-03-17T09:46:04.673265Z",
     "iopub.status.idle": "2022-03-17T09:46:04.698342Z",
     "shell.execute_reply": "2022-03-17T09:46:04.697815Z",
     "shell.execute_reply.started": "2022-03-17T09:32:04.636408Z"
    },
    "papermill": {
     "duration": 0.144068,
     "end_time": "2022-03-17T09:46:04.698485",
     "exception": false,
     "start_time": "2022-03-17T09:46:04.554417",
     "status": "completed"
    },
    "tags": []
   },
   "outputs": [
    {
     "data": {
      "text/html": [
       "<div>\n",
       "<style scoped>\n",
       "    .dataframe tbody tr th:only-of-type {\n",
       "        vertical-align: middle;\n",
       "    }\n",
       "\n",
       "    .dataframe tbody tr th {\n",
       "        vertical-align: top;\n",
       "    }\n",
       "\n",
       "    .dataframe thead th {\n",
       "        text-align: right;\n",
       "    }\n",
       "</style>\n",
       "<table border=\"1\" class=\"dataframe\">\n",
       "  <thead>\n",
       "    <tr style=\"text-align: right;\">\n",
       "      <th></th>\n",
       "      <th>Unnamed: 0</th>\n",
       "      <th>Player</th>\n",
       "      <th>Skill</th>\n",
       "      <th>Weakfoot</th>\n",
       "      <th>Workrates</th>\n",
       "      <th>Xbox_Price</th>\n",
       "      <th>PS4_5_Price</th>\n",
       "      <th>Pc_Price</th>\n",
       "      <th>Pac</th>\n",
       "      <th>Acceleration</th>\n",
       "      <th>Sprint_speed</th>\n",
       "      <th>Shoot</th>\n",
       "      <th>Pass</th>\n",
       "      <th>Dri</th>\n",
       "      <th>Phy</th>\n",
       "      <th>Def</th>\n",
       "      <th>Position</th>\n",
       "    </tr>\n",
       "  </thead>\n",
       "  <tbody>\n",
       "    <tr>\n",
       "      <th>0</th>\n",
       "      <td>0</td>\n",
       "      <td>Pele</td>\n",
       "      <td>5</td>\n",
       "      <td>4</td>\n",
       "      <td>HIGH/MED</td>\n",
       "      <td>\\n2,800,000\\n</td>\n",
       "      <td>\\n3,469,000\\n</td>\n",
       "      <td>\\n3,469,000\\n</td>\n",
       "      <td>96.0</td>\n",
       "      <td>95</td>\n",
       "      <td>96</td>\n",
       "      <td>93.0</td>\n",
       "      <td>90.0</td>\n",
       "      <td>95.0</td>\n",
       "      <td>75.0</td>\n",
       "      <td>56.0</td>\n",
       "      <td>CF</td>\n",
       "    </tr>\n",
       "    <tr>\n",
       "      <th>1</th>\n",
       "      <td>1</td>\n",
       "      <td>Diego Maradona</td>\n",
       "      <td>5</td>\n",
       "      <td>3</td>\n",
       "      <td>HIGH/MED</td>\n",
       "      <td>\\n1,345,000\\n</td>\n",
       "      <td>\\n1,463,000\\n</td>\n",
       "      <td>\\n1,463,000\\n</td>\n",
       "      <td>88.0</td>\n",
       "      <td>91</td>\n",
       "      <td>85</td>\n",
       "      <td>91.0</td>\n",
       "      <td>90.0</td>\n",
       "      <td>95.0</td>\n",
       "      <td>75.0</td>\n",
       "      <td>42.0</td>\n",
       "      <td>CAM</td>\n",
       "    </tr>\n",
       "    <tr>\n",
       "      <th>2</th>\n",
       "      <td>2</td>\n",
       "      <td>Lionel Messi</td>\n",
       "      <td>4</td>\n",
       "      <td>4</td>\n",
       "      <td>MED/LOW</td>\n",
       "      <td>\\n1,198,000\\n</td>\n",
       "      <td>\\n1,410,000\\n</td>\n",
       "      <td>\\n1,410,000\\n</td>\n",
       "      <td>88.0</td>\n",
       "      <td>94</td>\n",
       "      <td>83</td>\n",
       "      <td>94.0</td>\n",
       "      <td>93.0</td>\n",
       "      <td>97.0</td>\n",
       "      <td>70.0</td>\n",
       "      <td>36.0</td>\n",
       "      <td>RW</td>\n",
       "    </tr>\n",
       "    <tr>\n",
       "      <th>3</th>\n",
       "      <td>3</td>\n",
       "      <td>Xavi</td>\n",
       "      <td>4</td>\n",
       "      <td>4</td>\n",
       "      <td>HIGH/HIGH</td>\n",
       "      <td>\\n1,450,000\\n</td>\n",
       "      <td>\\n1,360,000\\n</td>\n",
       "      <td>\\n1,360,000\\n</td>\n",
       "      <td>84.0</td>\n",
       "      <td>85</td>\n",
       "      <td>83</td>\n",
       "      <td>84.0</td>\n",
       "      <td>96.0</td>\n",
       "      <td>95.0</td>\n",
       "      <td>73.0</td>\n",
       "      <td>73.0</td>\n",
       "      <td>CM</td>\n",
       "    </tr>\n",
       "    <tr>\n",
       "      <th>4</th>\n",
       "      <td>4</td>\n",
       "      <td>Puyol</td>\n",
       "      <td>2</td>\n",
       "      <td>3</td>\n",
       "      <td>MED/HIGH</td>\n",
       "      <td>\\n932,000\\n</td>\n",
       "      <td>\\n995,000\\n</td>\n",
       "      <td>\\n995,000\\n</td>\n",
       "      <td>NaN</td>\n",
       "      <td>77</td>\n",
       "      <td>80</td>\n",
       "      <td>49.0</td>\n",
       "      <td>69.0</td>\n",
       "      <td>60.0</td>\n",
       "      <td>92.0</td>\n",
       "      <td>96.0</td>\n",
       "      <td>CB</td>\n",
       "    </tr>\n",
       "    <tr>\n",
       "      <th>5</th>\n",
       "      <td>5</td>\n",
       "      <td>George Best</td>\n",
       "      <td>4</td>\n",
       "      <td>4</td>\n",
       "      <td>MED/MED</td>\n",
       "      <td>\\n2,500,000\\n</td>\n",
       "      <td>\\n3,000,000\\n</td>\n",
       "      <td>\\n3,000,000\\n</td>\n",
       "      <td>95.0</td>\n",
       "      <td>97</td>\n",
       "      <td>94</td>\n",
       "      <td>93.0</td>\n",
       "      <td>86.0</td>\n",
       "      <td>98.0</td>\n",
       "      <td>73.0</td>\n",
       "      <td>59.0</td>\n",
       "      <td>RW</td>\n",
       "    </tr>\n",
       "    <tr>\n",
       "      <th>6</th>\n",
       "      <td>6</td>\n",
       "      <td>Ruud Gullit</td>\n",
       "      <td>4</td>\n",
       "      <td>5</td>\n",
       "      <td>HIGH/MED</td>\n",
       "      <td>\\n8,350,000\\n</td>\n",
       "      <td>\\n10,199,000\\n</td>\n",
       "      <td>\\n10,199,000\\n</td>\n",
       "      <td>88.0</td>\n",
       "      <td>86</td>\n",
       "      <td>89</td>\n",
       "      <td>95.0</td>\n",
       "      <td>92.0</td>\n",
       "      <td>90.0</td>\n",
       "      <td>92.0</td>\n",
       "      <td>84.0</td>\n",
       "      <td>CF</td>\n",
       "    </tr>\n",
       "    <tr>\n",
       "      <th>7</th>\n",
       "      <td>7</td>\n",
       "      <td>Franco Baresi</td>\n",
       "      <td>2</td>\n",
       "      <td>3</td>\n",
       "      <td>MED/HIGH</td>\n",
       "      <td>\\n779,000\\n</td>\n",
       "      <td>\\n780,000\\n</td>\n",
       "      <td>\\n780,000\\n</td>\n",
       "      <td>NaN</td>\n",
       "      <td>76</td>\n",
       "      <td>84</td>\n",
       "      <td>50.0</td>\n",
       "      <td>79.0</td>\n",
       "      <td>74.0</td>\n",
       "      <td>85.0</td>\n",
       "      <td>97.0</td>\n",
       "      <td>CB</td>\n",
       "    </tr>\n",
       "    <tr>\n",
       "      <th>8</th>\n",
       "      <td>8</td>\n",
       "      <td>Thierry Henry</td>\n",
       "      <td>4</td>\n",
       "      <td>4</td>\n",
       "      <td>HIGH/MED</td>\n",
       "      <td>\\n4,600,000\\n</td>\n",
       "      <td>\\n4,350,000\\n</td>\n",
       "      <td>\\n4,350,000\\n</td>\n",
       "      <td>96.0</td>\n",
       "      <td>96</td>\n",
       "      <td>96</td>\n",
       "      <td>96.0</td>\n",
       "      <td>85.0</td>\n",
       "      <td>93.0</td>\n",
       "      <td>81.0</td>\n",
       "      <td>54.0</td>\n",
       "      <td>ST</td>\n",
       "    </tr>\n",
       "    <tr>\n",
       "      <th>9</th>\n",
       "      <td>9</td>\n",
       "      <td>Cafu</td>\n",
       "      <td>4</td>\n",
       "      <td>3</td>\n",
       "      <td>HIGH/MED</td>\n",
       "      <td>\\n1,159,000\\n</td>\n",
       "      <td>\\n1,220,000\\n</td>\n",
       "      <td>\\n1,220,000\\n</td>\n",
       "      <td>94.0</td>\n",
       "      <td>95</td>\n",
       "      <td>94</td>\n",
       "      <td>59.0</td>\n",
       "      <td>87.0</td>\n",
       "      <td>91.0</td>\n",
       "      <td>88.0</td>\n",
       "      <td>93.0</td>\n",
       "      <td>RWB</td>\n",
       "    </tr>\n",
       "  </tbody>\n",
       "</table>\n",
       "</div>"
      ],
      "text/plain": [
       "   Unnamed: 0          Player  Skill  Weakfoot  Workrates     Xbox_Price  \\\n",
       "0           0            Pele      5         4   HIGH/MED  \\n2,800,000\\n   \n",
       "1           1  Diego Maradona      5         3   HIGH/MED  \\n1,345,000\\n   \n",
       "2           2    Lionel Messi      4         4    MED/LOW  \\n1,198,000\\n   \n",
       "3           3            Xavi      4         4  HIGH/HIGH  \\n1,450,000\\n   \n",
       "4           4           Puyol      2         3   MED/HIGH    \\n932,000\\n   \n",
       "5           5     George Best      4         4    MED/MED  \\n2,500,000\\n   \n",
       "6           6     Ruud Gullit      4         5   HIGH/MED  \\n8,350,000\\n   \n",
       "7           7   Franco Baresi      2         3   MED/HIGH    \\n779,000\\n   \n",
       "8           8   Thierry Henry      4         4   HIGH/MED  \\n4,600,000\\n   \n",
       "9           9            Cafu      4         3   HIGH/MED  \\n1,159,000\\n   \n",
       "\n",
       "      PS4_5_Price        Pc_Price   Pac  Acceleration  Sprint_speed  Shoot  \\\n",
       "0   \\n3,469,000\\n   \\n3,469,000\\n  96.0            95            96   93.0   \n",
       "1   \\n1,463,000\\n   \\n1,463,000\\n  88.0            91            85   91.0   \n",
       "2   \\n1,410,000\\n   \\n1,410,000\\n  88.0            94            83   94.0   \n",
       "3   \\n1,360,000\\n   \\n1,360,000\\n  84.0            85            83   84.0   \n",
       "4     \\n995,000\\n     \\n995,000\\n   NaN            77            80   49.0   \n",
       "5   \\n3,000,000\\n   \\n3,000,000\\n  95.0            97            94   93.0   \n",
       "6  \\n10,199,000\\n  \\n10,199,000\\n  88.0            86            89   95.0   \n",
       "7     \\n780,000\\n     \\n780,000\\n   NaN            76            84   50.0   \n",
       "8   \\n4,350,000\\n   \\n4,350,000\\n  96.0            96            96   96.0   \n",
       "9   \\n1,220,000\\n   \\n1,220,000\\n  94.0            95            94   59.0   \n",
       "\n",
       "   Pass   Dri   Phy   Def Position  \n",
       "0  90.0  95.0  75.0  56.0       CF  \n",
       "1  90.0  95.0  75.0  42.0      CAM  \n",
       "2  93.0  97.0  70.0  36.0       RW  \n",
       "3  96.0  95.0  73.0  73.0       CM  \n",
       "4  69.0  60.0  92.0  96.0       CB  \n",
       "5  86.0  98.0  73.0  59.0       RW  \n",
       "6  92.0  90.0  92.0  84.0       CF  \n",
       "7  79.0  74.0  85.0  97.0       CB  \n",
       "8  85.0  93.0  81.0  54.0       ST  \n",
       "9  87.0  91.0  88.0  93.0      RWB  "
      ]
     },
     "execution_count": 50,
     "metadata": {},
     "output_type": "execute_result"
    }
   ],
   "source": [
    "df.head(10)"
   ]
  },
  {
   "cell_type": "code",
   "execution_count": 51,
   "id": "d6277867",
   "metadata": {
    "execution": {
     "iopub.execute_input": "2022-03-17T09:46:04.942810Z",
     "iopub.status.busy": "2022-03-17T09:46:04.941771Z",
     "iopub.status.idle": "2022-03-17T09:46:04.946972Z",
     "shell.execute_reply": "2022-03-17T09:46:04.947623Z",
     "shell.execute_reply.started": "2022-03-17T09:32:07.468405Z"
    },
    "papermill": {
     "duration": 0.130219,
     "end_time": "2022-03-17T09:46:04.947799",
     "exception": false,
     "start_time": "2022-03-17T09:46:04.817580",
     "status": "completed"
    },
    "tags": []
   },
   "outputs": [],
   "source": [
    "# Xbox_Price column\n",
    "\n",
    "df['Xbox_Price'] = df['Xbox_Price'].str.strip('\\n').str.replace(',','')"
   ]
  },
  {
   "cell_type": "code",
   "execution_count": 52,
   "id": "eff4f752",
   "metadata": {
    "execution": {
     "iopub.execute_input": "2022-03-17T09:46:05.186542Z",
     "iopub.status.busy": "2022-03-17T09:46:05.185874Z",
     "iopub.status.idle": "2022-03-17T09:46:05.191299Z",
     "shell.execute_reply": "2022-03-17T09:46:05.191824Z",
     "shell.execute_reply.started": "2022-03-17T09:32:08.999966Z"
    },
    "papermill": {
     "duration": 0.126984,
     "end_time": "2022-03-17T09:46:05.191993",
     "exception": false,
     "start_time": "2022-03-17T09:46:05.065009",
     "status": "completed"
    },
    "tags": []
   },
   "outputs": [],
   "source": [
    "# PS4_5_Price column\n",
    "\n",
    "df['PS4_5_Price'] = df['PS4_5_Price'].str.strip('\\n').str.replace(',','')"
   ]
  },
  {
   "cell_type": "code",
   "execution_count": 53,
   "id": "85b11703",
   "metadata": {
    "execution": {
     "iopub.execute_input": "2022-03-17T09:46:05.435406Z",
     "iopub.status.busy": "2022-03-17T09:46:05.434403Z",
     "iopub.status.idle": "2022-03-17T09:46:05.439862Z",
     "shell.execute_reply": "2022-03-17T09:46:05.440393Z",
     "shell.execute_reply.started": "2022-03-17T09:32:09.864502Z"
    },
    "papermill": {
     "duration": 0.127707,
     "end_time": "2022-03-17T09:46:05.440570",
     "exception": false,
     "start_time": "2022-03-17T09:46:05.312863",
     "status": "completed"
    },
    "tags": []
   },
   "outputs": [],
   "source": [
    "# Pc_Price column\n",
    "\n",
    "df['Pc_Price'] = df['Pc_Price'].str.strip('\\n').str.replace(',','')"
   ]
  },
  {
   "cell_type": "markdown",
   "id": "8ccf9ab4",
   "metadata": {
    "papermill": {
     "duration": 0.119574,
     "end_time": "2022-03-17T09:46:05.678827",
     "exception": false,
     "start_time": "2022-03-17T09:46:05.559253",
     "status": "completed"
    },
    "tags": []
   },
   "source": [
    "#### Changing data types:"
   ]
  },
  {
   "cell_type": "code",
   "execution_count": 54,
   "id": "759d98ba",
   "metadata": {
    "execution": {
     "iopub.execute_input": "2022-03-17T09:46:05.917568Z",
     "iopub.status.busy": "2022-03-17T09:46:05.916583Z",
     "iopub.status.idle": "2022-03-17T09:46:05.922837Z",
     "shell.execute_reply": "2022-03-17T09:46:05.923446Z",
     "shell.execute_reply.started": "2022-03-17T09:32:12.775805Z"
    },
    "papermill": {
     "duration": 0.127222,
     "end_time": "2022-03-17T09:46:05.923624",
     "exception": false,
     "start_time": "2022-03-17T09:46:05.796402",
     "status": "completed"
    },
    "tags": []
   },
   "outputs": [],
   "source": [
    "df['Xbox_Price']= pd.to_numeric(df['Xbox_Price'])\n",
    "df['PS4_5_Price'] = pd.to_numeric(df['PS4_5_Price'])\n",
    "df['Pc_Price'] = pd.to_numeric(df['Pc_Price'])"
   ]
  },
  {
   "cell_type": "code",
   "execution_count": 55,
   "id": "6f034f9d",
   "metadata": {
    "execution": {
     "iopub.execute_input": "2022-03-17T09:46:06.176923Z",
     "iopub.status.busy": "2022-03-17T09:46:06.176127Z",
     "iopub.status.idle": "2022-03-17T09:46:06.179366Z",
     "shell.execute_reply": "2022-03-17T09:46:06.179866Z",
     "shell.execute_reply.started": "2022-03-17T09:32:13.988462Z"
    },
    "papermill": {
     "duration": 0.137057,
     "end_time": "2022-03-17T09:46:06.180034",
     "exception": false,
     "start_time": "2022-03-17T09:46:06.042977",
     "status": "completed"
    },
    "tags": []
   },
   "outputs": [
    {
     "data": {
      "text/plain": [
       "Unnamed: 0        int64\n",
       "Player           object\n",
       "Skill             int64\n",
       "Weakfoot          int64\n",
       "Workrates        object\n",
       "Xbox_Price        int64\n",
       "PS4_5_Price       int64\n",
       "Pc_Price          int64\n",
       "Pac             float64\n",
       "Acceleration      int64\n",
       "Sprint_speed      int64\n",
       "Shoot           float64\n",
       "Pass            float64\n",
       "Dri             float64\n",
       "Phy             float64\n",
       "Def             float64\n",
       "Position         object\n",
       "dtype: object"
      ]
     },
     "execution_count": 55,
     "metadata": {},
     "output_type": "execute_result"
    }
   ],
   "source": [
    "df.dtypes"
   ]
  },
  {
   "cell_type": "markdown",
   "id": "0ebccb27",
   "metadata": {
    "papermill": {
     "duration": 0.13656,
     "end_time": "2022-03-17T09:46:06.459198",
     "exception": false,
     "start_time": "2022-03-17T09:46:06.322638",
     "status": "completed"
    },
    "tags": []
   },
   "source": [
    "#### Let's change some column names"
   ]
  },
  {
   "cell_type": "code",
   "execution_count": 56,
   "id": "e5ad77aa",
   "metadata": {
    "execution": {
     "iopub.execute_input": "2022-03-17T09:46:06.717875Z",
     "iopub.status.busy": "2022-03-17T09:46:06.716615Z",
     "iopub.status.idle": "2022-03-17T09:46:06.718927Z",
     "shell.execute_reply": "2022-03-17T09:46:06.719635Z",
     "shell.execute_reply.started": "2022-03-17T09:32:18.281504Z"
    },
    "papermill": {
     "duration": 0.13644,
     "end_time": "2022-03-17T09:46:06.719824",
     "exception": false,
     "start_time": "2022-03-17T09:46:06.583384",
     "status": "completed"
    },
    "tags": []
   },
   "outputs": [],
   "source": [
    "df.rename(columns={'Dri': 'Dribble','Phy':'Physics','Def':'Defense'},inplace = True)"
   ]
  },
  {
   "cell_type": "code",
   "execution_count": 57,
   "id": "d4c0b16a",
   "metadata": {
    "execution": {
     "iopub.execute_input": "2022-03-17T09:46:06.976006Z",
     "iopub.status.busy": "2022-03-17T09:46:06.975323Z",
     "iopub.status.idle": "2022-03-17T09:46:06.984065Z",
     "shell.execute_reply": "2022-03-17T09:46:06.984723Z",
     "shell.execute_reply.started": "2022-03-17T09:32:19.436905Z"
    },
    "papermill": {
     "duration": 0.13824,
     "end_time": "2022-03-17T09:46:06.984904",
     "exception": false,
     "start_time": "2022-03-17T09:46:06.846664",
     "status": "completed"
    },
    "tags": []
   },
   "outputs": [
    {
     "data": {
      "text/plain": [
       "Unnamed: 0       0\n",
       "Player           0\n",
       "Skill            0\n",
       "Weakfoot         0\n",
       "Workrates        0\n",
       "Xbox_Price       0\n",
       "PS4_5_Price      0\n",
       "Pc_Price         0\n",
       "Pac             31\n",
       "Acceleration     0\n",
       "Sprint_speed     0\n",
       "Shoot           13\n",
       "Pass            13\n",
       "Dribble         13\n",
       "Physics         13\n",
       "Defense         13\n",
       "Position         0\n",
       "dtype: int64"
      ]
     },
     "execution_count": 57,
     "metadata": {},
     "output_type": "execute_result"
    }
   ],
   "source": [
    "df.isnull().sum()"
   ]
  },
  {
   "cell_type": "markdown",
   "id": "6ef0eb92",
   "metadata": {
    "papermill": {
     "duration": 0.128926,
     "end_time": "2022-03-17T09:46:07.247136",
     "exception": false,
     "start_time": "2022-03-17T09:46:07.118210",
     "status": "completed"
    },
    "tags": []
   },
   "source": [
    "## Missing values:"
   ]
  },
  {
   "cell_type": "markdown",
   "id": "db40c721",
   "metadata": {
    "papermill": {
     "duration": 0.13046,
     "end_time": "2022-03-17T09:46:07.542369",
     "exception": false,
     "start_time": "2022-03-17T09:46:07.411909",
     "status": "completed"
    },
    "tags": []
   },
   "source": [
    "#### We have some missing value we need to deal with;\n",
    "Let's fill the null of the Pac colum by the mean of the Workrates column"
   ]
  },
  {
   "cell_type": "code",
   "execution_count": 58,
   "id": "78dfb6d4",
   "metadata": {
    "execution": {
     "iopub.execute_input": "2022-03-17T09:46:07.793696Z",
     "iopub.status.busy": "2022-03-17T09:46:07.792611Z",
     "iopub.status.idle": "2022-03-17T09:46:07.797040Z",
     "shell.execute_reply": "2022-03-17T09:46:07.797623Z",
     "shell.execute_reply.started": "2022-03-17T09:32:23.918183Z"
    },
    "papermill": {
     "duration": 0.129236,
     "end_time": "2022-03-17T09:46:07.797804",
     "exception": false,
     "start_time": "2022-03-17T09:46:07.668568",
     "status": "completed"
    },
    "tags": []
   },
   "outputs": [],
   "source": [
    "df['Pac'] = df['Pac'].fillna(0)\n",
    "df['Shoot'] = df['Shoot'].fillna(0)\n",
    "df['Pass'] = df['Pass'].fillna(0)\n",
    "df['Dribble'] = df['Dribble'].fillna(0)\n",
    "df['Physics'] = df['Physics'].fillna(0)\n",
    "df['Defense'] = df['Defense'].fillna(0)"
   ]
  },
  {
   "cell_type": "code",
   "execution_count": 59,
   "id": "55506347",
   "metadata": {
    "execution": {
     "iopub.execute_input": "2022-03-17T09:46:08.039778Z",
     "iopub.status.busy": "2022-03-17T09:46:08.038795Z",
     "iopub.status.idle": "2022-03-17T09:46:08.047994Z",
     "shell.execute_reply": "2022-03-17T09:46:08.048544Z",
     "shell.execute_reply.started": "2022-03-17T09:32:25.454872Z"
    },
    "papermill": {
     "duration": 0.133198,
     "end_time": "2022-03-17T09:46:08.048723",
     "exception": false,
     "start_time": "2022-03-17T09:46:07.915525",
     "status": "completed"
    },
    "tags": []
   },
   "outputs": [],
   "source": [
    "df['Pac'] = df['Pac'].astype(int)\n",
    "#df['Acceleration'] = pd.to_numeric(df['Acceleration'])\n",
    "#df['Sprint_speed'] = pd.to_numeric(df['Sprint_speed'])\n",
    "df['Shoot'] = df['Shoot'].astype(int)\n",
    "df['Pass'] = df['Pass'].astype(int)\n",
    "df['Dribble'] = df['Dribble'].astype(int)\n",
    "df['Physics'] = df['Physics'].astype(int)\n",
    "df['Defense'] = df['Defense'].astype(int)"
   ]
  },
  {
   "cell_type": "code",
   "execution_count": 60,
   "id": "32008a98",
   "metadata": {
    "execution": {
     "iopub.execute_input": "2022-03-17T09:46:08.295174Z",
     "iopub.status.busy": "2022-03-17T09:46:08.294393Z",
     "iopub.status.idle": "2022-03-17T09:46:08.297576Z",
     "shell.execute_reply": "2022-03-17T09:46:08.298057Z",
     "shell.execute_reply.started": "2022-03-17T09:32:36.747168Z"
    },
    "papermill": {
     "duration": 0.127592,
     "end_time": "2022-03-17T09:46:08.298231",
     "exception": false,
     "start_time": "2022-03-17T09:46:08.170639",
     "status": "completed"
    },
    "tags": []
   },
   "outputs": [
    {
     "data": {
      "text/plain": [
       "array(['HIGH/MED', 'MED/LOW', 'HIGH/HIGH', 'MED/HIGH', 'MED/MED',\n",
       "       'HIGH/LOW', 'LOW/HIGH'], dtype=object)"
      ]
     },
     "execution_count": 60,
     "metadata": {},
     "output_type": "execute_result"
    }
   ],
   "source": [
    "df['Workrates'].unique()"
   ]
  },
  {
   "cell_type": "code",
   "execution_count": 61,
   "id": "e681ff93",
   "metadata": {
    "execution": {
     "iopub.execute_input": "2022-03-17T09:46:08.538006Z",
     "iopub.status.busy": "2022-03-17T09:46:08.537023Z",
     "iopub.status.idle": "2022-03-17T09:46:08.544424Z",
     "shell.execute_reply": "2022-03-17T09:46:08.544973Z",
     "shell.execute_reply.started": "2022-03-17T09:32:38.875591Z"
    },
    "papermill": {
     "duration": 0.128766,
     "end_time": "2022-03-17T09:46:08.545158",
     "exception": false,
     "start_time": "2022-03-17T09:46:08.416392",
     "status": "completed"
    },
    "tags": []
   },
   "outputs": [
    {
     "data": {
      "text/plain": [
       "79.75324675324676"
      ]
     },
     "execution_count": 61,
     "metadata": {},
     "output_type": "execute_result"
    }
   ],
   "source": [
    "mean_H_M = df.loc[df['Workrates'] == 'HIGH/MED']['Pac'].mean()\n",
    "mean_H_M"
   ]
  },
  {
   "cell_type": "code",
   "execution_count": 62,
   "id": "fb46f69b",
   "metadata": {
    "execution": {
     "iopub.execute_input": "2022-03-17T09:46:08.785976Z",
     "iopub.status.busy": "2022-03-17T09:46:08.784967Z",
     "iopub.status.idle": "2022-03-17T09:46:08.791903Z",
     "shell.execute_reply": "2022-03-17T09:46:08.792457Z",
     "shell.execute_reply.started": "2022-03-17T09:32:39.515008Z"
    },
    "papermill": {
     "duration": 0.129576,
     "end_time": "2022-03-17T09:46:08.792633",
     "exception": false,
     "start_time": "2022-03-17T09:46:08.663057",
     "status": "completed"
    },
    "tags": []
   },
   "outputs": [
    {
     "data": {
      "text/plain": [
       "79.47619047619048"
      ]
     },
     "execution_count": 62,
     "metadata": {},
     "output_type": "execute_result"
    }
   ],
   "source": [
    "mean_M_L= df.loc[df['Workrates'] == 'MED/LOW']['Pac'].mean()\n",
    "mean_M_L"
   ]
  },
  {
   "cell_type": "code",
   "execution_count": 63,
   "id": "0a4127d8",
   "metadata": {
    "execution": {
     "iopub.execute_input": "2022-03-17T09:46:09.037560Z",
     "iopub.status.busy": "2022-03-17T09:46:09.036576Z",
     "iopub.status.idle": "2022-03-17T09:46:09.043814Z",
     "shell.execute_reply": "2022-03-17T09:46:09.044358Z",
     "shell.execute_reply.started": "2022-03-17T09:32:40.251702Z"
    },
    "papermill": {
     "duration": 0.131083,
     "end_time": "2022-03-17T09:46:09.044520",
     "exception": false,
     "start_time": "2022-03-17T09:46:08.913437",
     "status": "completed"
    },
    "tags": []
   },
   "outputs": [
    {
     "data": {
      "text/plain": [
       "65.87096774193549"
      ]
     },
     "execution_count": 63,
     "metadata": {},
     "output_type": "execute_result"
    }
   ],
   "source": [
    "mean_H_H=df.loc[df['Workrates'] == 'HIGH/HIGH']['Pac'].mean()\n",
    "mean_H_H"
   ]
  },
  {
   "cell_type": "code",
   "execution_count": 64,
   "id": "e9de385c",
   "metadata": {
    "execution": {
     "iopub.execute_input": "2022-03-17T09:46:09.287147Z",
     "iopub.status.busy": "2022-03-17T09:46:09.286095Z",
     "iopub.status.idle": "2022-03-17T09:46:09.292012Z",
     "shell.execute_reply": "2022-03-17T09:46:09.292608Z",
     "shell.execute_reply.started": "2022-03-17T09:32:40.938609Z"
    },
    "papermill": {
     "duration": 0.129114,
     "end_time": "2022-03-17T09:46:09.292773",
     "exception": false,
     "start_time": "2022-03-17T09:46:09.163659",
     "status": "completed"
    },
    "tags": []
   },
   "outputs": [],
   "source": [
    "mean_M_H = df.loc[df['Workrates'] == 'MED/HIGH']['Pac'].mean()\n",
    "mean_M_H = int(mean_M_H)\n"
   ]
  },
  {
   "cell_type": "code",
   "execution_count": 65,
   "id": "935fe734",
   "metadata": {
    "execution": {
     "iopub.execute_input": "2022-03-17T09:46:09.537230Z",
     "iopub.status.busy": "2022-03-17T09:46:09.536248Z",
     "iopub.status.idle": "2022-03-17T09:46:09.541893Z",
     "shell.execute_reply": "2022-03-17T09:46:09.542563Z",
     "shell.execute_reply.started": "2022-03-17T09:32:41.548167Z"
    },
    "papermill": {
     "duration": 0.129586,
     "end_time": "2022-03-17T09:46:09.542747",
     "exception": false,
     "start_time": "2022-03-17T09:46:09.413161",
     "status": "completed"
    },
    "tags": []
   },
   "outputs": [
    {
     "data": {
      "text/plain": [
       "60"
      ]
     },
     "execution_count": 65,
     "metadata": {},
     "output_type": "execute_result"
    }
   ],
   "source": [
    "mean_M_H"
   ]
  },
  {
   "cell_type": "code",
   "execution_count": 66,
   "id": "c8ed3c87",
   "metadata": {
    "execution": {
     "iopub.execute_input": "2022-03-17T09:46:09.791746Z",
     "iopub.status.busy": "2022-03-17T09:46:09.790742Z",
     "iopub.status.idle": "2022-03-17T09:46:09.797797Z",
     "shell.execute_reply": "2022-03-17T09:46:09.798408Z",
     "shell.execute_reply.started": "2022-03-17T09:32:42.474896Z"
    },
    "papermill": {
     "duration": 0.131138,
     "end_time": "2022-03-17T09:46:09.798580",
     "exception": false,
     "start_time": "2022-03-17T09:46:09.667442",
     "status": "completed"
    },
    "tags": []
   },
   "outputs": [
    {
     "data": {
      "text/plain": [
       "81.08333333333333"
      ]
     },
     "execution_count": 66,
     "metadata": {},
     "output_type": "execute_result"
    }
   ],
   "source": [
    "mean_M_M=df.loc[df['Workrates'] == 'MED/MED']['Pac'].mean()\n",
    "mean_M_M"
   ]
  },
  {
   "cell_type": "code",
   "execution_count": 67,
   "id": "7bcc951f",
   "metadata": {
    "execution": {
     "iopub.execute_input": "2022-03-17T09:46:10.044480Z",
     "iopub.status.busy": "2022-03-17T09:46:10.041937Z",
     "iopub.status.idle": "2022-03-17T09:46:10.049138Z",
     "shell.execute_reply": "2022-03-17T09:46:10.049647Z",
     "shell.execute_reply.started": "2022-03-17T09:32:43.162745Z"
    },
    "papermill": {
     "duration": 0.130573,
     "end_time": "2022-03-17T09:46:10.049828",
     "exception": false,
     "start_time": "2022-03-17T09:46:09.919255",
     "status": "completed"
    },
    "tags": []
   },
   "outputs": [
    {
     "data": {
      "text/plain": [
       "90.95238095238095"
      ]
     },
     "execution_count": 67,
     "metadata": {},
     "output_type": "execute_result"
    }
   ],
   "source": [
    "mean_H_L=df.loc[df['Workrates'] == 'HIGH/LOW']['Pac'].mean()\n",
    "mean_H_L"
   ]
  },
  {
   "cell_type": "code",
   "execution_count": 68,
   "id": "fc4a3ca3",
   "metadata": {
    "execution": {
     "iopub.execute_input": "2022-03-17T09:46:10.298725Z",
     "iopub.status.busy": "2022-03-17T09:46:10.297945Z",
     "iopub.status.idle": "2022-03-17T09:46:10.301784Z",
     "shell.execute_reply": "2022-03-17T09:46:10.302337Z",
     "shell.execute_reply.started": "2022-03-17T09:32:44.66743Z"
    },
    "papermill": {
     "duration": 0.132558,
     "end_time": "2022-03-17T09:46:10.302513",
     "exception": false,
     "start_time": "2022-03-17T09:46:10.169955",
     "status": "completed"
    },
    "tags": []
   },
   "outputs": [
    {
     "data": {
      "text/plain": [
       "41.5"
      ]
     },
     "execution_count": 68,
     "metadata": {},
     "output_type": "execute_result"
    }
   ],
   "source": [
    "mean_L_H=df.loc[df['Workrates'] == 'LOW/HIGH']['Pac'].mean()\n",
    "mean_L_H"
   ]
  },
  {
   "cell_type": "code",
   "execution_count": 69,
   "id": "b648eb2e",
   "metadata": {
    "execution": {
     "iopub.execute_input": "2022-03-17T09:46:10.552269Z",
     "iopub.status.busy": "2022-03-17T09:46:10.551413Z",
     "iopub.status.idle": "2022-03-17T09:46:10.554664Z",
     "shell.execute_reply": "2022-03-17T09:46:10.555150Z",
     "shell.execute_reply.started": "2022-03-17T09:33:00.843229Z"
    },
    "papermill": {
     "duration": 0.131153,
     "end_time": "2022-03-17T09:46:10.555317",
     "exception": false,
     "start_time": "2022-03-17T09:46:10.424164",
     "status": "completed"
    },
    "tags": []
   },
   "outputs": [
    {
     "data": {
      "text/plain": [
       "Unnamed: 0       int64\n",
       "Player          object\n",
       "Skill            int64\n",
       "Weakfoot         int64\n",
       "Workrates       object\n",
       "Xbox_Price       int64\n",
       "PS4_5_Price      int64\n",
       "Pc_Price         int64\n",
       "Pac              int64\n",
       "Acceleration     int64\n",
       "Sprint_speed     int64\n",
       "Shoot            int64\n",
       "Pass             int64\n",
       "Dribble          int64\n",
       "Physics          int64\n",
       "Defense          int64\n",
       "Position        object\n",
       "dtype: object"
      ]
     },
     "execution_count": 69,
     "metadata": {},
     "output_type": "execute_result"
    }
   ],
   "source": [
    "df.dtypes"
   ]
  },
  {
   "cell_type": "code",
   "execution_count": 70,
   "id": "c9fc3cce",
   "metadata": {
    "execution": {
     "iopub.execute_input": "2022-03-17T09:46:10.805706Z",
     "iopub.status.busy": "2022-03-17T09:46:10.804701Z",
     "iopub.status.idle": "2022-03-17T09:46:10.993542Z",
     "shell.execute_reply": "2022-03-17T09:46:10.994156Z",
     "shell.execute_reply.started": "2022-03-17T09:33:04.264377Z"
    },
    "papermill": {
     "duration": 0.318743,
     "end_time": "2022-03-17T09:46:10.994348",
     "exception": false,
     "start_time": "2022-03-17T09:46:10.675605",
     "status": "completed"
    },
    "tags": []
   },
   "outputs": [],
   "source": [
    "for x,y in zip(df['Pac'] ,df['Workrates']):\n",
    "    if x == 0:\n",
    "        if y == 'MED/HIGH':\n",
    "            df.loc[df['Workrates'] == y] = df.loc[df['Workrates'] == y].replace(x,mean_M_H)\n",
    "        elif y == 'MED/LOW':\n",
    "            df.loc[df['Workrates'] == y] = df.loc[df['Workrates'] == y].replace(x,mean_M_L)\n",
    "        elif y == 'HIGH/HIGH':\n",
    "            df.loc[df['Workrates'] == y] = df.loc[df['Workrates'] == y].replace(x,mean_H_H)\n",
    "        elif y == 'HIGH/MED':\n",
    "            df.loc[df['Workrates'] == y] = df.loc[df['Workrates'] == y].replace(x,mean_M_H)\n",
    "        elif y == 'MED/MED':\n",
    "            df.loc[df['Workrates'] == y] = df.loc[df['Workrates'] == y].replace(x,mean_M_M)\n",
    "        elif y == 'HIGH/LOW':\n",
    "            df.loc[df['Workrates'] == y] = df.loc[df['Workrates'] == y].replace(x,mean_H_L)   \n",
    "        elif y == 'LOW/HIGH':\n",
    "            df.loc[df['Workrates'] == y] = df.loc[df['Workrates'] == y].replace(x,mean_L_H)"
   ]
  },
  {
   "cell_type": "code",
   "execution_count": 71,
   "id": "201c942e",
   "metadata": {
    "execution": {
     "iopub.execute_input": "2022-03-17T09:46:11.240212Z",
     "iopub.status.busy": "2022-03-17T09:46:11.239235Z",
     "iopub.status.idle": "2022-03-17T09:46:11.260077Z",
     "shell.execute_reply": "2022-03-17T09:46:11.260633Z",
     "shell.execute_reply.started": "2022-03-17T09:33:07.646268Z"
    },
    "papermill": {
     "duration": 0.144955,
     "end_time": "2022-03-17T09:46:11.260800",
     "exception": false,
     "start_time": "2022-03-17T09:46:11.115845",
     "status": "completed"
    },
    "tags": []
   },
   "outputs": [
    {
     "data": {
      "text/html": [
       "<div>\n",
       "<style scoped>\n",
       "    .dataframe tbody tr th:only-of-type {\n",
       "        vertical-align: middle;\n",
       "    }\n",
       "\n",
       "    .dataframe tbody tr th {\n",
       "        vertical-align: top;\n",
       "    }\n",
       "\n",
       "    .dataframe thead th {\n",
       "        text-align: right;\n",
       "    }\n",
       "</style>\n",
       "<table border=\"1\" class=\"dataframe\">\n",
       "  <thead>\n",
       "    <tr style=\"text-align: right;\">\n",
       "      <th></th>\n",
       "      <th>Unnamed: 0</th>\n",
       "      <th>Player</th>\n",
       "      <th>Skill</th>\n",
       "      <th>Weakfoot</th>\n",
       "      <th>Workrates</th>\n",
       "      <th>Xbox_Price</th>\n",
       "      <th>PS4_5_Price</th>\n",
       "      <th>Pc_Price</th>\n",
       "      <th>Pac</th>\n",
       "      <th>Acceleration</th>\n",
       "      <th>Sprint_speed</th>\n",
       "      <th>Shoot</th>\n",
       "      <th>Pass</th>\n",
       "      <th>Dribble</th>\n",
       "      <th>Physics</th>\n",
       "      <th>Defense</th>\n",
       "      <th>Position</th>\n",
       "    </tr>\n",
       "  </thead>\n",
       "  <tbody>\n",
       "    <tr>\n",
       "      <th>0</th>\n",
       "      <td>60</td>\n",
       "      <td>Pele</td>\n",
       "      <td>5</td>\n",
       "      <td>4</td>\n",
       "      <td>HIGH/MED</td>\n",
       "      <td>2800000.0</td>\n",
       "      <td>3469000.0</td>\n",
       "      <td>3469000.0</td>\n",
       "      <td>96.0</td>\n",
       "      <td>95</td>\n",
       "      <td>96</td>\n",
       "      <td>93.0</td>\n",
       "      <td>90.0</td>\n",
       "      <td>95.0</td>\n",
       "      <td>75.0</td>\n",
       "      <td>56.0</td>\n",
       "      <td>CF</td>\n",
       "    </tr>\n",
       "    <tr>\n",
       "      <th>1</th>\n",
       "      <td>1</td>\n",
       "      <td>Diego Maradona</td>\n",
       "      <td>5</td>\n",
       "      <td>3</td>\n",
       "      <td>HIGH/MED</td>\n",
       "      <td>1345000.0</td>\n",
       "      <td>1463000.0</td>\n",
       "      <td>1463000.0</td>\n",
       "      <td>88.0</td>\n",
       "      <td>91</td>\n",
       "      <td>85</td>\n",
       "      <td>91.0</td>\n",
       "      <td>90.0</td>\n",
       "      <td>95.0</td>\n",
       "      <td>75.0</td>\n",
       "      <td>42.0</td>\n",
       "      <td>CAM</td>\n",
       "    </tr>\n",
       "    <tr>\n",
       "      <th>2</th>\n",
       "      <td>2</td>\n",
       "      <td>Lionel Messi</td>\n",
       "      <td>4</td>\n",
       "      <td>4</td>\n",
       "      <td>MED/LOW</td>\n",
       "      <td>1198000.0</td>\n",
       "      <td>1410000.0</td>\n",
       "      <td>1410000.0</td>\n",
       "      <td>88.0</td>\n",
       "      <td>94</td>\n",
       "      <td>83</td>\n",
       "      <td>94.0</td>\n",
       "      <td>93.0</td>\n",
       "      <td>97.0</td>\n",
       "      <td>70.0</td>\n",
       "      <td>36.0</td>\n",
       "      <td>RW</td>\n",
       "    </tr>\n",
       "    <tr>\n",
       "      <th>3</th>\n",
       "      <td>3</td>\n",
       "      <td>Xavi</td>\n",
       "      <td>4</td>\n",
       "      <td>4</td>\n",
       "      <td>HIGH/HIGH</td>\n",
       "      <td>1450000.0</td>\n",
       "      <td>1360000.0</td>\n",
       "      <td>1360000.0</td>\n",
       "      <td>84.0</td>\n",
       "      <td>85</td>\n",
       "      <td>83</td>\n",
       "      <td>84.0</td>\n",
       "      <td>96.0</td>\n",
       "      <td>95.0</td>\n",
       "      <td>73.0</td>\n",
       "      <td>73.0</td>\n",
       "      <td>CM</td>\n",
       "    </tr>\n",
       "    <tr>\n",
       "      <th>4</th>\n",
       "      <td>4</td>\n",
       "      <td>Puyol</td>\n",
       "      <td>2</td>\n",
       "      <td>3</td>\n",
       "      <td>MED/HIGH</td>\n",
       "      <td>932000.0</td>\n",
       "      <td>995000.0</td>\n",
       "      <td>995000.0</td>\n",
       "      <td>60.0</td>\n",
       "      <td>77</td>\n",
       "      <td>80</td>\n",
       "      <td>49.0</td>\n",
       "      <td>69.0</td>\n",
       "      <td>60.0</td>\n",
       "      <td>92.0</td>\n",
       "      <td>96.0</td>\n",
       "      <td>CB</td>\n",
       "    </tr>\n",
       "  </tbody>\n",
       "</table>\n",
       "</div>"
      ],
      "text/plain": [
       "   Unnamed: 0          Player  Skill  Weakfoot  Workrates  Xbox_Price  \\\n",
       "0          60            Pele      5         4   HIGH/MED   2800000.0   \n",
       "1           1  Diego Maradona      5         3   HIGH/MED   1345000.0   \n",
       "2           2    Lionel Messi      4         4    MED/LOW   1198000.0   \n",
       "3           3            Xavi      4         4  HIGH/HIGH   1450000.0   \n",
       "4           4           Puyol      2         3   MED/HIGH    932000.0   \n",
       "\n",
       "   PS4_5_Price   Pc_Price   Pac  Acceleration  Sprint_speed  Shoot  Pass  \\\n",
       "0    3469000.0  3469000.0  96.0            95            96   93.0  90.0   \n",
       "1    1463000.0  1463000.0  88.0            91            85   91.0  90.0   \n",
       "2    1410000.0  1410000.0  88.0            94            83   94.0  93.0   \n",
       "3    1360000.0  1360000.0  84.0            85            83   84.0  96.0   \n",
       "4     995000.0   995000.0  60.0            77            80   49.0  69.0   \n",
       "\n",
       "   Dribble  Physics  Defense Position  \n",
       "0     95.0     75.0     56.0       CF  \n",
       "1     95.0     75.0     42.0      CAM  \n",
       "2     97.0     70.0     36.0       RW  \n",
       "3     95.0     73.0     73.0       CM  \n",
       "4     60.0     92.0     96.0       CB  "
      ]
     },
     "execution_count": 71,
     "metadata": {},
     "output_type": "execute_result"
    }
   ],
   "source": [
    "df.head(5)"
   ]
  },
  {
   "cell_type": "code",
   "execution_count": 72,
   "id": "778bf6f3",
   "metadata": {
    "execution": {
     "iopub.execute_input": "2022-03-17T09:46:11.511800Z",
     "iopub.status.busy": "2022-03-17T09:46:11.510730Z",
     "iopub.status.idle": "2022-03-17T09:46:11.519549Z",
     "shell.execute_reply": "2022-03-17T09:46:11.520269Z",
     "shell.execute_reply.started": "2022-03-17T09:33:12.231954Z"
    },
    "papermill": {
     "duration": 0.138601,
     "end_time": "2022-03-17T09:46:11.520447",
     "exception": false,
     "start_time": "2022-03-17T09:46:11.381846",
     "status": "completed"
    },
    "tags": []
   },
   "outputs": [
    {
     "data": {
      "text/html": [
       "<div>\n",
       "<style scoped>\n",
       "    .dataframe tbody tr th:only-of-type {\n",
       "        vertical-align: middle;\n",
       "    }\n",
       "\n",
       "    .dataframe tbody tr th {\n",
       "        vertical-align: top;\n",
       "    }\n",
       "\n",
       "    .dataframe thead th {\n",
       "        text-align: right;\n",
       "    }\n",
       "</style>\n",
       "<table border=\"1\" class=\"dataframe\">\n",
       "  <thead>\n",
       "    <tr style=\"text-align: right;\">\n",
       "      <th></th>\n",
       "      <th>Unnamed: 0</th>\n",
       "      <th>Player</th>\n",
       "      <th>Skill</th>\n",
       "      <th>Weakfoot</th>\n",
       "      <th>Workrates</th>\n",
       "      <th>Xbox_Price</th>\n",
       "      <th>PS4_5_Price</th>\n",
       "      <th>Pc_Price</th>\n",
       "      <th>Pac</th>\n",
       "      <th>Acceleration</th>\n",
       "      <th>Sprint_speed</th>\n",
       "      <th>Shoot</th>\n",
       "      <th>Pass</th>\n",
       "      <th>Dribble</th>\n",
       "      <th>Physics</th>\n",
       "      <th>Defense</th>\n",
       "      <th>Position</th>\n",
       "    </tr>\n",
       "  </thead>\n",
       "  <tbody>\n",
       "  </tbody>\n",
       "</table>\n",
       "</div>"
      ],
      "text/plain": [
       "Empty DataFrame\n",
       "Columns: [Unnamed: 0, Player, Skill, Weakfoot, Workrates, Xbox_Price, PS4_5_Price, Pc_Price, Pac, Acceleration, Sprint_speed, Shoot, Pass, Dribble, Physics, Defense, Position]\n",
       "Index: []"
      ]
     },
     "execution_count": 72,
     "metadata": {},
     "output_type": "execute_result"
    }
   ],
   "source": [
    "#Let's check the result : \n",
    "df[df['Pac'] == 0]"
   ]
  },
  {
   "cell_type": "code",
   "execution_count": 73,
   "id": "92d7d2c0",
   "metadata": {
    "execution": {
     "iopub.execute_input": "2022-03-17T09:46:11.772404Z",
     "iopub.status.busy": "2022-03-17T09:46:11.771722Z",
     "iopub.status.idle": "2022-03-17T09:46:11.792250Z",
     "shell.execute_reply": "2022-03-17T09:46:11.791605Z",
     "shell.execute_reply.started": "2022-03-17T09:33:14.645233Z"
    },
    "papermill": {
     "duration": 0.148198,
     "end_time": "2022-03-17T09:46:11.792389",
     "exception": false,
     "start_time": "2022-03-17T09:46:11.644191",
     "status": "completed"
    },
    "tags": []
   },
   "outputs": [
    {
     "data": {
      "text/html": [
       "<div>\n",
       "<style scoped>\n",
       "    .dataframe tbody tr th:only-of-type {\n",
       "        vertical-align: middle;\n",
       "    }\n",
       "\n",
       "    .dataframe tbody tr th {\n",
       "        vertical-align: top;\n",
       "    }\n",
       "\n",
       "    .dataframe thead th {\n",
       "        text-align: right;\n",
       "    }\n",
       "</style>\n",
       "<table border=\"1\" class=\"dataframe\">\n",
       "  <thead>\n",
       "    <tr style=\"text-align: right;\">\n",
       "      <th></th>\n",
       "      <th>Unnamed: 0</th>\n",
       "      <th>Player</th>\n",
       "      <th>Skill</th>\n",
       "      <th>Weakfoot</th>\n",
       "      <th>Workrates</th>\n",
       "      <th>Xbox_Price</th>\n",
       "      <th>PS4_5_Price</th>\n",
       "      <th>Pc_Price</th>\n",
       "      <th>Pac</th>\n",
       "      <th>Acceleration</th>\n",
       "      <th>Sprint_speed</th>\n",
       "      <th>Shoot</th>\n",
       "      <th>Pass</th>\n",
       "      <th>Dribble</th>\n",
       "      <th>Physics</th>\n",
       "      <th>Defense</th>\n",
       "      <th>Position</th>\n",
       "    </tr>\n",
       "  </thead>\n",
       "  <tbody>\n",
       "    <tr>\n",
       "      <th>33</th>\n",
       "      <td>33</td>\n",
       "      <td>Juan Roman Riquelme</td>\n",
       "      <td>5</td>\n",
       "      <td>4</td>\n",
       "      <td>MED/LOW</td>\n",
       "      <td>780000.0</td>\n",
       "      <td>745000.0</td>\n",
       "      <td>745000.0</td>\n",
       "      <td>79.47619</td>\n",
       "      <td>77</td>\n",
       "      <td>83</td>\n",
       "      <td>88.0</td>\n",
       "      <td>95.0</td>\n",
       "      <td>95.0</td>\n",
       "      <td>72.0</td>\n",
       "      <td>34.0</td>\n",
       "      <td>CAM</td>\n",
       "    </tr>\n",
       "    <tr>\n",
       "      <th>224</th>\n",
       "      <td>224</td>\n",
       "      <td>Juan Roman Riquelme</td>\n",
       "      <td>5</td>\n",
       "      <td>4</td>\n",
       "      <td>MED/LOW</td>\n",
       "      <td>117000.0</td>\n",
       "      <td>103000.0</td>\n",
       "      <td>103000.0</td>\n",
       "      <td>79.47619</td>\n",
       "      <td>67</td>\n",
       "      <td>73</td>\n",
       "      <td>87.0</td>\n",
       "      <td>93.0</td>\n",
       "      <td>93.0</td>\n",
       "      <td>69.0</td>\n",
       "      <td>32.0</td>\n",
       "      <td>CAM</td>\n",
       "    </tr>\n",
       "  </tbody>\n",
       "</table>\n",
       "</div>"
      ],
      "text/plain": [
       "     Unnamed: 0               Player  Skill  Weakfoot Workrates  Xbox_Price  \\\n",
       "33           33  Juan Roman Riquelme      5         4   MED/LOW    780000.0   \n",
       "224         224  Juan Roman Riquelme      5         4   MED/LOW    117000.0   \n",
       "\n",
       "     PS4_5_Price  Pc_Price       Pac  Acceleration  Sprint_speed  Shoot  Pass  \\\n",
       "33      745000.0  745000.0  79.47619            77            83   88.0  95.0   \n",
       "224     103000.0  103000.0  79.47619            67            73   87.0  93.0   \n",
       "\n",
       "     Dribble  Physics  Defense Position  \n",
       "33      95.0     72.0     34.0      CAM  \n",
       "224     93.0     69.0     32.0      CAM  "
      ]
     },
     "execution_count": 73,
     "metadata": {},
     "output_type": "execute_result"
    }
   ],
   "source": [
    "df.loc[(df['Workrates'] == 'MED/LOW') & (df['Pac'] == mean_M_L)]"
   ]
  },
  {
   "cell_type": "code",
   "execution_count": 74,
   "id": "2d641b22",
   "metadata": {
    "execution": {
     "iopub.execute_input": "2022-03-17T09:46:12.044831Z",
     "iopub.status.busy": "2022-03-17T09:46:12.044204Z",
     "iopub.status.idle": "2022-03-17T09:46:12.068025Z",
     "shell.execute_reply": "2022-03-17T09:46:12.068628Z",
     "shell.execute_reply.started": "2022-03-17T09:33:17.177549Z"
    },
    "papermill": {
     "duration": 0.153181,
     "end_time": "2022-03-17T09:46:12.068793",
     "exception": false,
     "start_time": "2022-03-17T09:46:11.915612",
     "status": "completed"
    },
    "tags": []
   },
   "outputs": [
    {
     "data": {
      "text/html": [
       "<div>\n",
       "<style scoped>\n",
       "    .dataframe tbody tr th:only-of-type {\n",
       "        vertical-align: middle;\n",
       "    }\n",
       "\n",
       "    .dataframe tbody tr th {\n",
       "        vertical-align: top;\n",
       "    }\n",
       "\n",
       "    .dataframe thead th {\n",
       "        text-align: right;\n",
       "    }\n",
       "</style>\n",
       "<table border=\"1\" class=\"dataframe\">\n",
       "  <thead>\n",
       "    <tr style=\"text-align: right;\">\n",
       "      <th></th>\n",
       "      <th>Unnamed: 0</th>\n",
       "      <th>Player</th>\n",
       "      <th>Skill</th>\n",
       "      <th>Weakfoot</th>\n",
       "      <th>Workrates</th>\n",
       "      <th>Xbox_Price</th>\n",
       "      <th>PS4_5_Price</th>\n",
       "      <th>Pc_Price</th>\n",
       "      <th>Pac</th>\n",
       "      <th>Acceleration</th>\n",
       "      <th>Sprint_speed</th>\n",
       "      <th>Shoot</th>\n",
       "      <th>Pass</th>\n",
       "      <th>Dribble</th>\n",
       "      <th>Physics</th>\n",
       "      <th>Defense</th>\n",
       "      <th>Position</th>\n",
       "    </tr>\n",
       "  </thead>\n",
       "  <tbody>\n",
       "    <tr>\n",
       "      <th>4</th>\n",
       "      <td>4</td>\n",
       "      <td>Puyol</td>\n",
       "      <td>2</td>\n",
       "      <td>3</td>\n",
       "      <td>MED/HIGH</td>\n",
       "      <td>932000.0</td>\n",
       "      <td>995000.0</td>\n",
       "      <td>995000.0</td>\n",
       "      <td>60.0</td>\n",
       "      <td>77</td>\n",
       "      <td>80</td>\n",
       "      <td>49.0</td>\n",
       "      <td>69.0</td>\n",
       "      <td>60.0</td>\n",
       "      <td>92.0</td>\n",
       "      <td>96.0</td>\n",
       "      <td>CB</td>\n",
       "    </tr>\n",
       "    <tr>\n",
       "      <th>7</th>\n",
       "      <td>7</td>\n",
       "      <td>Franco Baresi</td>\n",
       "      <td>2</td>\n",
       "      <td>3</td>\n",
       "      <td>MED/HIGH</td>\n",
       "      <td>779000.0</td>\n",
       "      <td>780000.0</td>\n",
       "      <td>780000.0</td>\n",
       "      <td>60.0</td>\n",
       "      <td>76</td>\n",
       "      <td>84</td>\n",
       "      <td>50.0</td>\n",
       "      <td>79.0</td>\n",
       "      <td>74.0</td>\n",
       "      <td>85.0</td>\n",
       "      <td>97.0</td>\n",
       "      <td>CB</td>\n",
       "    </tr>\n",
       "    <tr>\n",
       "      <th>72</th>\n",
       "      <td>72</td>\n",
       "      <td>Franco Baresi</td>\n",
       "      <td>2</td>\n",
       "      <td>3</td>\n",
       "      <td>MED/HIGH</td>\n",
       "      <td>204000.0</td>\n",
       "      <td>179000.0</td>\n",
       "      <td>179000.0</td>\n",
       "      <td>60.0</td>\n",
       "      <td>64</td>\n",
       "      <td>74</td>\n",
       "      <td>49.0</td>\n",
       "      <td>76.0</td>\n",
       "      <td>72.0</td>\n",
       "      <td>82.0</td>\n",
       "      <td>95.0</td>\n",
       "      <td>CB</td>\n",
       "    </tr>\n",
       "    <tr>\n",
       "      <th>131</th>\n",
       "      <td>131</td>\n",
       "      <td>N'Golo Kante</td>\n",
       "      <td>2</td>\n",
       "      <td>3</td>\n",
       "      <td>MED/HIGH</td>\n",
       "      <td>509000.0</td>\n",
       "      <td>562000.0</td>\n",
       "      <td>562000.0</td>\n",
       "      <td>60.0</td>\n",
       "      <td>84</td>\n",
       "      <td>77</td>\n",
       "      <td>68.0</td>\n",
       "      <td>79.0</td>\n",
       "      <td>85.0</td>\n",
       "      <td>86.0</td>\n",
       "      <td>89.0</td>\n",
       "      <td>CM</td>\n",
       "    </tr>\n",
       "    <tr>\n",
       "      <th>132</th>\n",
       "      <td>132</td>\n",
       "      <td>Alessandro Nesta</td>\n",
       "      <td>2</td>\n",
       "      <td>3</td>\n",
       "      <td>MED/HIGH</td>\n",
       "      <td>204000.0</td>\n",
       "      <td>175000.0</td>\n",
       "      <td>175000.0</td>\n",
       "      <td>60.0</td>\n",
       "      <td>74</td>\n",
       "      <td>70</td>\n",
       "      <td>42.0</td>\n",
       "      <td>65.0</td>\n",
       "      <td>67.0</td>\n",
       "      <td>86.0</td>\n",
       "      <td>94.0</td>\n",
       "      <td>CB</td>\n",
       "    </tr>\n",
       "    <tr>\n",
       "      <th>139</th>\n",
       "      <td>139</td>\n",
       "      <td>Puyol</td>\n",
       "      <td>2</td>\n",
       "      <td>3</td>\n",
       "      <td>MED/HIGH</td>\n",
       "      <td>195000.0</td>\n",
       "      <td>200000.0</td>\n",
       "      <td>200000.0</td>\n",
       "      <td>60.0</td>\n",
       "      <td>69</td>\n",
       "      <td>70</td>\n",
       "      <td>45.0</td>\n",
       "      <td>68.0</td>\n",
       "      <td>58.0</td>\n",
       "      <td>90.0</td>\n",
       "      <td>94.0</td>\n",
       "      <td>CB</td>\n",
       "    </tr>\n",
       "    <tr>\n",
       "      <th>187</th>\n",
       "      <td>187</td>\n",
       "      <td>Roy Keane</td>\n",
       "      <td>2</td>\n",
       "      <td>3</td>\n",
       "      <td>MED/HIGH</td>\n",
       "      <td>647000.0</td>\n",
       "      <td>540000.0</td>\n",
       "      <td>540000.0</td>\n",
       "      <td>60.0</td>\n",
       "      <td>76</td>\n",
       "      <td>84</td>\n",
       "      <td>73.0</td>\n",
       "      <td>86.0</td>\n",
       "      <td>85.0</td>\n",
       "      <td>91.0</td>\n",
       "      <td>91.0</td>\n",
       "      <td>CM</td>\n",
       "    </tr>\n",
       "  </tbody>\n",
       "</table>\n",
       "</div>"
      ],
      "text/plain": [
       "     Unnamed: 0            Player  Skill  Weakfoot Workrates  Xbox_Price  \\\n",
       "4             4             Puyol      2         3  MED/HIGH    932000.0   \n",
       "7             7     Franco Baresi      2         3  MED/HIGH    779000.0   \n",
       "72           72     Franco Baresi      2         3  MED/HIGH    204000.0   \n",
       "131         131      N'Golo Kante      2         3  MED/HIGH    509000.0   \n",
       "132         132  Alessandro Nesta      2         3  MED/HIGH    204000.0   \n",
       "139         139             Puyol      2         3  MED/HIGH    195000.0   \n",
       "187         187         Roy Keane      2         3  MED/HIGH    647000.0   \n",
       "\n",
       "     PS4_5_Price  Pc_Price   Pac  Acceleration  Sprint_speed  Shoot  Pass  \\\n",
       "4       995000.0  995000.0  60.0            77            80   49.0  69.0   \n",
       "7       780000.0  780000.0  60.0            76            84   50.0  79.0   \n",
       "72      179000.0  179000.0  60.0            64            74   49.0  76.0   \n",
       "131     562000.0  562000.0  60.0            84            77   68.0  79.0   \n",
       "132     175000.0  175000.0  60.0            74            70   42.0  65.0   \n",
       "139     200000.0  200000.0  60.0            69            70   45.0  68.0   \n",
       "187     540000.0  540000.0  60.0            76            84   73.0  86.0   \n",
       "\n",
       "     Dribble  Physics  Defense Position  \n",
       "4       60.0     92.0     96.0       CB  \n",
       "7       74.0     85.0     97.0       CB  \n",
       "72      72.0     82.0     95.0       CB  \n",
       "131     85.0     86.0     89.0       CM  \n",
       "132     67.0     86.0     94.0       CB  \n",
       "139     58.0     90.0     94.0       CB  \n",
       "187     85.0     91.0     91.0       CM  "
      ]
     },
     "execution_count": 74,
     "metadata": {},
     "output_type": "execute_result"
    }
   ],
   "source": [
    "df.loc[(df['Workrates'] == 'MED/HIGH') & (df['Pac'] == mean_M_H)]"
   ]
  },
  {
   "cell_type": "code",
   "execution_count": 75,
   "id": "7cba1eb2",
   "metadata": {
    "execution": {
     "iopub.execute_input": "2022-03-17T09:46:12.323143Z",
     "iopub.status.busy": "2022-03-17T09:46:12.322475Z",
     "iopub.status.idle": "2022-03-17T09:46:12.329499Z",
     "shell.execute_reply": "2022-03-17T09:46:12.330086Z",
     "shell.execute_reply.started": "2022-03-17T09:33:22.151865Z"
    },
    "papermill": {
     "duration": 0.137215,
     "end_time": "2022-03-17T09:46:12.330278",
     "exception": false,
     "start_time": "2022-03-17T09:46:12.193063",
     "status": "completed"
    },
    "tags": []
   },
   "outputs": [
    {
     "data": {
      "text/plain": [
       "Unnamed: 0      0\n",
       "Player          0\n",
       "Skill           0\n",
       "Weakfoot        0\n",
       "Workrates       0\n",
       "Xbox_Price      0\n",
       "PS4_5_Price     0\n",
       "Pc_Price        0\n",
       "Pac             0\n",
       "Acceleration    0\n",
       "Sprint_speed    0\n",
       "Shoot           0\n",
       "Pass            0\n",
       "Dribble         0\n",
       "Physics         0\n",
       "Defense         0\n",
       "Position        0\n",
       "dtype: int64"
      ]
     },
     "execution_count": 75,
     "metadata": {},
     "output_type": "execute_result"
    }
   ],
   "source": [
    "df.isnull().sum()"
   ]
  },
  {
   "cell_type": "code",
   "execution_count": 76,
   "id": "15ec05cd",
   "metadata": {
    "execution": {
     "iopub.execute_input": "2022-03-17T09:46:12.581394Z",
     "iopub.status.busy": "2022-03-17T09:46:12.580682Z",
     "iopub.status.idle": "2022-03-17T09:46:12.603180Z",
     "shell.execute_reply": "2022-03-17T09:46:12.603673Z",
     "shell.execute_reply.started": "2022-03-17T09:33:24.091964Z"
    },
    "papermill": {
     "duration": 0.149565,
     "end_time": "2022-03-17T09:46:12.603847",
     "exception": false,
     "start_time": "2022-03-17T09:46:12.454282",
     "status": "completed"
    },
    "tags": []
   },
   "outputs": [
    {
     "data": {
      "text/html": [
       "<div>\n",
       "<style scoped>\n",
       "    .dataframe tbody tr th:only-of-type {\n",
       "        vertical-align: middle;\n",
       "    }\n",
       "\n",
       "    .dataframe tbody tr th {\n",
       "        vertical-align: top;\n",
       "    }\n",
       "\n",
       "    .dataframe thead th {\n",
       "        text-align: right;\n",
       "    }\n",
       "</style>\n",
       "<table border=\"1\" class=\"dataframe\">\n",
       "  <thead>\n",
       "    <tr style=\"text-align: right;\">\n",
       "      <th></th>\n",
       "      <th>Unnamed: 0</th>\n",
       "      <th>Player</th>\n",
       "      <th>Skill</th>\n",
       "      <th>Weakfoot</th>\n",
       "      <th>Workrates</th>\n",
       "      <th>Xbox_Price</th>\n",
       "      <th>PS4_5_Price</th>\n",
       "      <th>Pc_Price</th>\n",
       "      <th>Pac</th>\n",
       "      <th>Acceleration</th>\n",
       "      <th>Sprint_speed</th>\n",
       "      <th>Shoot</th>\n",
       "      <th>Pass</th>\n",
       "      <th>Dribble</th>\n",
       "      <th>Physics</th>\n",
       "      <th>Defense</th>\n",
       "      <th>Position</th>\n",
       "    </tr>\n",
       "  </thead>\n",
       "  <tbody>\n",
       "    <tr>\n",
       "      <th>0</th>\n",
       "      <td>60</td>\n",
       "      <td>Pele</td>\n",
       "      <td>5</td>\n",
       "      <td>4</td>\n",
       "      <td>HIGH/MED</td>\n",
       "      <td>2800000.0</td>\n",
       "      <td>3469000.0</td>\n",
       "      <td>3469000.0</td>\n",
       "      <td>96.0</td>\n",
       "      <td>95</td>\n",
       "      <td>96</td>\n",
       "      <td>93.0</td>\n",
       "      <td>90.0</td>\n",
       "      <td>95.0</td>\n",
       "      <td>75.0</td>\n",
       "      <td>56.0</td>\n",
       "      <td>CF</td>\n",
       "    </tr>\n",
       "    <tr>\n",
       "      <th>1</th>\n",
       "      <td>1</td>\n",
       "      <td>Diego Maradona</td>\n",
       "      <td>5</td>\n",
       "      <td>3</td>\n",
       "      <td>HIGH/MED</td>\n",
       "      <td>1345000.0</td>\n",
       "      <td>1463000.0</td>\n",
       "      <td>1463000.0</td>\n",
       "      <td>88.0</td>\n",
       "      <td>91</td>\n",
       "      <td>85</td>\n",
       "      <td>91.0</td>\n",
       "      <td>90.0</td>\n",
       "      <td>95.0</td>\n",
       "      <td>75.0</td>\n",
       "      <td>42.0</td>\n",
       "      <td>CAM</td>\n",
       "    </tr>\n",
       "    <tr>\n",
       "      <th>2</th>\n",
       "      <td>2</td>\n",
       "      <td>Lionel Messi</td>\n",
       "      <td>4</td>\n",
       "      <td>4</td>\n",
       "      <td>MED/LOW</td>\n",
       "      <td>1198000.0</td>\n",
       "      <td>1410000.0</td>\n",
       "      <td>1410000.0</td>\n",
       "      <td>88.0</td>\n",
       "      <td>94</td>\n",
       "      <td>83</td>\n",
       "      <td>94.0</td>\n",
       "      <td>93.0</td>\n",
       "      <td>97.0</td>\n",
       "      <td>70.0</td>\n",
       "      <td>36.0</td>\n",
       "      <td>RW</td>\n",
       "    </tr>\n",
       "    <tr>\n",
       "      <th>3</th>\n",
       "      <td>3</td>\n",
       "      <td>Xavi</td>\n",
       "      <td>4</td>\n",
       "      <td>4</td>\n",
       "      <td>HIGH/HIGH</td>\n",
       "      <td>1450000.0</td>\n",
       "      <td>1360000.0</td>\n",
       "      <td>1360000.0</td>\n",
       "      <td>84.0</td>\n",
       "      <td>85</td>\n",
       "      <td>83</td>\n",
       "      <td>84.0</td>\n",
       "      <td>96.0</td>\n",
       "      <td>95.0</td>\n",
       "      <td>73.0</td>\n",
       "      <td>73.0</td>\n",
       "      <td>CM</td>\n",
       "    </tr>\n",
       "    <tr>\n",
       "      <th>4</th>\n",
       "      <td>4</td>\n",
       "      <td>Puyol</td>\n",
       "      <td>2</td>\n",
       "      <td>3</td>\n",
       "      <td>MED/HIGH</td>\n",
       "      <td>932000.0</td>\n",
       "      <td>995000.0</td>\n",
       "      <td>995000.0</td>\n",
       "      <td>60.0</td>\n",
       "      <td>77</td>\n",
       "      <td>80</td>\n",
       "      <td>49.0</td>\n",
       "      <td>69.0</td>\n",
       "      <td>60.0</td>\n",
       "      <td>92.0</td>\n",
       "      <td>96.0</td>\n",
       "      <td>CB</td>\n",
       "    </tr>\n",
       "  </tbody>\n",
       "</table>\n",
       "</div>"
      ],
      "text/plain": [
       "   Unnamed: 0          Player  Skill  Weakfoot  Workrates  Xbox_Price  \\\n",
       "0          60            Pele      5         4   HIGH/MED   2800000.0   \n",
       "1           1  Diego Maradona      5         3   HIGH/MED   1345000.0   \n",
       "2           2    Lionel Messi      4         4    MED/LOW   1198000.0   \n",
       "3           3            Xavi      4         4  HIGH/HIGH   1450000.0   \n",
       "4           4           Puyol      2         3   MED/HIGH    932000.0   \n",
       "\n",
       "   PS4_5_Price   Pc_Price   Pac  Acceleration  Sprint_speed  Shoot  Pass  \\\n",
       "0    3469000.0  3469000.0  96.0            95            96   93.0  90.0   \n",
       "1    1463000.0  1463000.0  88.0            91            85   91.0  90.0   \n",
       "2    1410000.0  1410000.0  88.0            94            83   94.0  93.0   \n",
       "3    1360000.0  1360000.0  84.0            85            83   84.0  96.0   \n",
       "4     995000.0   995000.0  60.0            77            80   49.0  69.0   \n",
       "\n",
       "   Dribble  Physics  Defense Position  \n",
       "0     95.0     75.0     56.0       CF  \n",
       "1     95.0     75.0     42.0      CAM  \n",
       "2     97.0     70.0     36.0       RW  \n",
       "3     95.0     73.0     73.0       CM  \n",
       "4     60.0     92.0     96.0       CB  "
      ]
     },
     "execution_count": 76,
     "metadata": {},
     "output_type": "execute_result"
    }
   ],
   "source": [
    "df.head(5)"
   ]
  },
  {
   "cell_type": "code",
   "execution_count": 77,
   "id": "643b88f4",
   "metadata": {
    "execution": {
     "iopub.execute_input": "2022-03-17T09:46:12.855976Z",
     "iopub.status.busy": "2022-03-17T09:46:12.855347Z",
     "iopub.status.idle": "2022-03-17T09:46:12.860224Z",
     "shell.execute_reply": "2022-03-17T09:46:12.860748Z",
     "shell.execute_reply.started": "2022-03-17T09:33:27.470944Z"
    },
    "papermill": {
     "duration": 0.132449,
     "end_time": "2022-03-17T09:46:12.860918",
     "exception": false,
     "start_time": "2022-03-17T09:46:12.728469",
     "status": "completed"
    },
    "tags": []
   },
   "outputs": [],
   "source": [
    "# Let's drop the Unnamed column:\n",
    "df.drop(['Unnamed: 0'], axis=1,inplace = True)"
   ]
  },
  {
   "cell_type": "code",
   "execution_count": 78,
   "id": "b1117ab5",
   "metadata": {
    "execution": {
     "iopub.execute_input": "2022-03-17T09:46:13.117814Z",
     "iopub.status.busy": "2022-03-17T09:46:13.117131Z",
     "iopub.status.idle": "2022-03-17T09:46:13.135908Z",
     "shell.execute_reply": "2022-03-17T09:46:13.135280Z",
     "shell.execute_reply.started": "2022-03-17T09:33:29.016976Z"
    },
    "papermill": {
     "duration": 0.148231,
     "end_time": "2022-03-17T09:46:13.136045",
     "exception": false,
     "start_time": "2022-03-17T09:46:12.987814",
     "status": "completed"
    },
    "tags": []
   },
   "outputs": [
    {
     "data": {
      "text/html": [
       "<div>\n",
       "<style scoped>\n",
       "    .dataframe tbody tr th:only-of-type {\n",
       "        vertical-align: middle;\n",
       "    }\n",
       "\n",
       "    .dataframe tbody tr th {\n",
       "        vertical-align: top;\n",
       "    }\n",
       "\n",
       "    .dataframe thead th {\n",
       "        text-align: right;\n",
       "    }\n",
       "</style>\n",
       "<table border=\"1\" class=\"dataframe\">\n",
       "  <thead>\n",
       "    <tr style=\"text-align: right;\">\n",
       "      <th></th>\n",
       "      <th>Player</th>\n",
       "      <th>Skill</th>\n",
       "      <th>Weakfoot</th>\n",
       "      <th>Workrates</th>\n",
       "      <th>Xbox_Price</th>\n",
       "      <th>PS4_5_Price</th>\n",
       "      <th>Pc_Price</th>\n",
       "      <th>Pac</th>\n",
       "      <th>Acceleration</th>\n",
       "      <th>Sprint_speed</th>\n",
       "      <th>Shoot</th>\n",
       "      <th>Pass</th>\n",
       "      <th>Dribble</th>\n",
       "      <th>Physics</th>\n",
       "      <th>Defense</th>\n",
       "      <th>Position</th>\n",
       "    </tr>\n",
       "  </thead>\n",
       "  <tbody>\n",
       "    <tr>\n",
       "      <th>0</th>\n",
       "      <td>Pele</td>\n",
       "      <td>5</td>\n",
       "      <td>4</td>\n",
       "      <td>HIGH/MED</td>\n",
       "      <td>2800000.0</td>\n",
       "      <td>3469000.0</td>\n",
       "      <td>3469000.0</td>\n",
       "      <td>96.0</td>\n",
       "      <td>95</td>\n",
       "      <td>96</td>\n",
       "      <td>93.0</td>\n",
       "      <td>90.0</td>\n",
       "      <td>95.0</td>\n",
       "      <td>75.0</td>\n",
       "      <td>56.0</td>\n",
       "      <td>CF</td>\n",
       "    </tr>\n",
       "    <tr>\n",
       "      <th>1</th>\n",
       "      <td>Diego Maradona</td>\n",
       "      <td>5</td>\n",
       "      <td>3</td>\n",
       "      <td>HIGH/MED</td>\n",
       "      <td>1345000.0</td>\n",
       "      <td>1463000.0</td>\n",
       "      <td>1463000.0</td>\n",
       "      <td>88.0</td>\n",
       "      <td>91</td>\n",
       "      <td>85</td>\n",
       "      <td>91.0</td>\n",
       "      <td>90.0</td>\n",
       "      <td>95.0</td>\n",
       "      <td>75.0</td>\n",
       "      <td>42.0</td>\n",
       "      <td>CAM</td>\n",
       "    </tr>\n",
       "  </tbody>\n",
       "</table>\n",
       "</div>"
      ],
      "text/plain": [
       "           Player  Skill  Weakfoot Workrates  Xbox_Price  PS4_5_Price  \\\n",
       "0            Pele      5         4  HIGH/MED   2800000.0    3469000.0   \n",
       "1  Diego Maradona      5         3  HIGH/MED   1345000.0    1463000.0   \n",
       "\n",
       "    Pc_Price   Pac  Acceleration  Sprint_speed  Shoot  Pass  Dribble  Physics  \\\n",
       "0  3469000.0  96.0            95            96   93.0  90.0     95.0     75.0   \n",
       "1  1463000.0  88.0            91            85   91.0  90.0     95.0     75.0   \n",
       "\n",
       "   Defense Position  \n",
       "0     56.0       CF  \n",
       "1     42.0      CAM  "
      ]
     },
     "execution_count": 78,
     "metadata": {},
     "output_type": "execute_result"
    }
   ],
   "source": [
    "df.head(2)"
   ]
  },
  {
   "cell_type": "markdown",
   "id": "3e349357",
   "metadata": {
    "papermill": {
     "duration": 0.125035,
     "end_time": "2022-03-17T09:46:13.388214",
     "exception": false,
     "start_time": "2022-03-17T09:46:13.263179",
     "status": "completed"
    },
    "tags": []
   },
   "source": [
    "#### Save the results :"
   ]
  },
  {
   "cell_type": "code",
   "execution_count": 79,
   "id": "79e424eb",
   "metadata": {
    "execution": {
     "iopub.execute_input": "2022-03-17T09:46:13.642678Z",
     "iopub.status.busy": "2022-03-17T09:46:13.642055Z",
     "iopub.status.idle": "2022-03-17T09:46:13.644898Z",
     "shell.execute_reply": "2022-03-17T09:46:13.644418Z",
     "shell.execute_reply.started": "2022-03-17T09:33:34.568352Z"
    },
    "papermill": {
     "duration": 0.131522,
     "end_time": "2022-03-17T09:46:13.645034",
     "exception": false,
     "start_time": "2022-03-17T09:46:13.513512",
     "status": "completed"
    },
    "tags": []
   },
   "outputs": [],
   "source": [
    "#df.to_excel('Final_output_fifa21.xlsx')"
   ]
  },
  {
   "cell_type": "code",
   "execution_count": null,
   "id": "ab3ac049",
   "metadata": {
    "papermill": {
     "duration": 0.125985,
     "end_time": "2022-03-17T09:46:13.896146",
     "exception": false,
     "start_time": "2022-03-17T09:46:13.770161",
     "status": "completed"
    },
    "tags": []
   },
   "outputs": [],
   "source": []
  }
 ],
 "metadata": {
  "kernelspec": {
   "display_name": "Python 3",
   "language": "python",
   "name": "python3"
  },
  "language_info": {
   "codemirror_mode": {
    "name": "ipython",
    "version": 3
   },
   "file_extension": ".py",
   "mimetype": "text/x-python",
   "name": "python",
   "nbconvert_exporter": "python",
   "pygments_lexer": "ipython3",
   "version": "3.7.12"
  },
  "papermill": {
   "default_parameters": {},
   "duration": 218.126309,
   "end_time": "2022-03-17T09:46:17.215067",
   "environment_variables": {},
   "exception": null,
   "input_path": "__notebook__.ipynb",
   "output_path": "__notebook__.ipynb",
   "parameters": {},
   "start_time": "2022-03-17T09:42:39.088758",
   "version": "2.3.3"
  }
 },
 "nbformat": 4,
 "nbformat_minor": 5
}
